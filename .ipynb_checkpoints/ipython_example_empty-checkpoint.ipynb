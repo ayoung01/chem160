{
 "metadata": {
  "name": "",
  "signature": "sha256:03d96e26cd43443ff385863d597d07fa7790d49b7531e6c3e2ee7ff97d147b2e"
 },
 "nbformat": 3,
 "nbformat_minor": 0,
 "worksheets": [
  {
   "cells": [
    {
     "cell_type": "heading",
     "level": 1,
     "metadata": {},
     "source": [
      "iPython Programming Tutorial Exercises"
     ]
    },
    {
     "cell_type": "markdown",
     "metadata": {},
     "source": [
      "We import the relevant libraries below: \n",
      "- Numpy is a basic numerics library, that provides a robust and straight forward array object that we'll generally use for most of this course. http://docs.scipy.org/doc/numpy-1.8.1/numpy-ref-1.8.1.pdf\n",
      "- Scipy is a comprehensive set of scientific functions and methods. We will use these at various points during the course to integrate functions, solve ODEs, perform matrix algebra, and things  http://docs.scipy.org/doc/scipy/scipy-ref-0.14.0.pdf\n",
      "- Matplotlib provides us with a nice plotting framework  http://matplotlib.org/contents.html\n",
      "\n",
      "- other modules"
     ]
    },
    {
     "cell_type": "code",
     "collapsed": false,
     "input": [
      "import numpy as np\n",
      "from scipy import integrate\n",
      "import matplotlib.pyplot as plt"
     ],
     "language": "python",
     "metadata": {},
     "outputs": [],
     "prompt_number": 2
    },
    {
     "cell_type": "code",
     "collapsed": false,
     "input": [
      "def chem160_plotting(x, y, title = 'LABEL ME', legend_label = None, xlabel = 'LABEL ME', ylabel = 'LABEL ME'):\n",
      "    '''\n",
      "    It's not really important to understand the innerworkings of this function. Just know that this will be the\n",
      "    general function that we'll use to plot during this semester. It has nice colours, as well as other defaults set.\n",
      "    \n",
      "    INPUT:\n",
      "    x: An array or arrays to be plotted. These are the x axes to be plotted\n",
      "    y: An array or arrays to be plotted. These are the y axes to be plotted\n",
      "    title: String that defines the plot title. The default title is LABEL ME to remind you to always label your plots\n",
      "    legend_label: A string or array of strings that define the legend entries to be used\n",
      "    xlabel: A string that defines the xlabel. This can accept latex\n",
      "    ylabel: A string that defines the ylabel. This can accept latex\n",
      "    OUTPUT:\n",
      "    None. A plot is displayed\n",
      "    '''\n",
      "    import prettyplotlib as ppl\n",
      "   \n",
      "    fig, ax = plt.subplots(1)\n",
      "    fig.set_size_inches(10, 8)\n",
      "\n",
      "    for ind in range(len(y)):\n",
      "        if legend_label != None:\n",
      "            ppl.plot(ax, x[ind], y[ind], label=legend_label[ind], linewidth=3)\n",
      "        else:\n",
      "            ppl.plot(ax, x[ind], y[ind], linewidth=3)\n",
      "\n",
      "    ppl.legend(ax, fontsize=18)\n",
      "    ax.set_title(title, fontsize=24)\n",
      "    ax.set_xlabel(xlabel, fontsize=20)\n",
      "    ax.set_ylabel(ylabel, fontsize=20)\n",
      "\n",
      "    for tick in ax.xaxis.get_major_ticks():\n",
      "        tick.label.set_fontsize(20) \n",
      "    for tick in ax.yaxis.get_major_ticks():\n",
      "        tick.label.set_fontsize(20) \n",
      "\n",
      "    ax.xaxis.set_ticks_position('bottom')\n",
      "    ax.xaxis.set_tick_params(width=3)\n",
      "\n",
      "    ax.yaxis.set_ticks_position('left')\n",
      "    ax.yaxis.set_tick_params(width=3)\n",
      "\n",
      "    plt.grid(b=True, which='major', color='0.65',linestyle='-')"
     ],
     "language": "python",
     "metadata": {},
     "outputs": [],
     "prompt_number": 40
    },
    {
     "cell_type": "markdown",
     "metadata": {},
     "source": [
      "Verlet Algorithm:\n",
      "The verlet algorithm is an algorithm that's used to integrate newton's equations. We use it because it conserves energy, is particularly robust, and pretty fast. The algorithm is given by:\n",
      "\n",
      "$$ x(t + \\Delta t) = x(t) + v(t) \\Delta t + \\frac{1}{2} a(t) \\left( \\Delta t \\right)^2 $$\n",
      "$$ v(t + \\Delta t) = v(t) + \\frac{a(t) + a(t + \\Delta t)}{2} \\Delta t $$\n",
      "\n",
      "See the wikipedia page for more information: http://en.wikipedia.org/wiki/Verlet_integration\n",
      "\n",
      "We have implemented it in the code box below. Note that we have implemented this in a very general form, and this represents one of the extremely powerful aspects of python. This function takes in the current position, velocity, time step, and the function that defines the acceleration and returns the updated position and velocity. There are a few things to note here:\n",
      "\n",
      "1) x and v can be either a scalar or a vector function\n",
      "\n",
      "2) a expects a function. That is, you give a function to the verlet function and it takes care of the rest. Note, it only expects an acceleration that depends on position and not velocity. "
     ]
    },
    {
     "cell_type": "code",
     "collapsed": false,
     "input": [
      "def verlet(x, v, dt, a):\n",
      "    '''\n",
      "    This is a simple implementation of the velocity verlet algorithm.\n",
      "    INPUT\n",
      "    x: scalar or vector of current positions\n",
      "    v: scalar or vector of current velocities\n",
      "    dt: scalar double of the current time step\n",
      "    a: a function pointer to the acceleration function\n",
      "    \n",
      "    OUTPUT:\n",
      "    xnew: scalar or vector of the updated positions. The data type (scalar or vector) will be the \n",
      "          same as what is passed in to x, as the type will be infered.\n",
      "    vnew: scalar of vector of the updated velocities. The data type (scalar or vector) will be the \n",
      "          same as what is passed in to v, as the type will be infered.\n",
      "    '''\n",
      "    xnew = x + v*dt + a(x)*dt**2/2.0\n",
      "    vnew = v + (a(x) + a(xnew))/(2.0)*dt\n",
      "    return xnew, vnew\n",
      "\n",
      "\n",
      "############### calling example\n",
      "x1, v1 = verlet(1.0, 2.0, 0.001, np.sqrt)\n",
      "print 'x1 is:', x1\n",
      "print 'v1 is:', v1"
     ],
     "language": "python",
     "metadata": {},
     "outputs": [
      {
       "output_type": "stream",
       "stream": "stdout",
       "text": [
        "x1 is: 1.0020005\n",
        "v1 is: 2.00100049988\n"
       ]
      }
     ],
     "prompt_number": 9
    },
    {
     "cell_type": "heading",
     "level": 1,
     "metadata": {},
     "source": [
      "Phase Space: Falling Apple"
     ]
    },
    {
     "cell_type": "markdown",
     "metadata": {},
     "source": [
      "Here, we're going to reproduce what we saw in the first lecture. Remember that we defined the differential equation for a falling apple as:\n",
      "$$\\ddot x = -g$$\n",
      "\n",
      "REPLACE WITH ONE THAT IS FREE TO USE\n",
      "\n",
      "![Falling Apple](http://1.bp.blogspot.com/-a9nkkd3hSQ0/Tbw4IYFFchI/AAAAAAAAAE0/y5NIB4uwcqQ/s320/fall+apple.jpg)"
     ]
    },
    {
     "cell_type": "code",
     "collapsed": false,
     "input": [
      "def a_falling_apple(x):\n",
      "    '''\n",
      "    This defines the acceleration of a falling apple. We'll go ahead and reproduce the phase space plot\n",
      "    that we saw in class\n",
      "    INPUT:\n",
      "    x: scalar, not used at all\n",
      "    OUTPUT:\n",
      "    a: a scalar that retursn the acceleration due to gravity\n",
      "    '''\n",
      "    g = 9.81 # Acceleration due to gravity in m/s^2\n",
      "    a = -g \n",
      "    return a"
     ],
     "language": "python",
     "metadata": {},
     "outputs": [],
     "prompt_number": 11
    },
    {
     "cell_type": "code",
     "collapsed": false,
     "input": [
      "startTime = 0.0\n",
      "stopTime = 5.0\n",
      "dt = 0.01\n",
      "t = np.arange(startTime, stopTime, dt)\n",
      "print t[0]\n",
      "print t[1]\n"
     ],
     "language": "python",
     "metadata": {},
     "outputs": [
      {
       "output_type": "stream",
       "stream": "stdout",
       "text": [
        "0.0\n",
        "0.01\n",
        "1.0\n"
       ]
      }
     ],
     "prompt_number": 14
    },
    {
     "cell_type": "markdown",
     "metadata": {},
     "source": [
      "So we're off to a good start but this doesn't make a lot of sense. It's physically unreasonable for the object to continue falling with a negative position. That means that it's falling into the earth! To fix this, we'll add a statement to the python that will go ahead and stop numerically integrating once the apple has hit the ground"
     ]
    },
    {
     "cell_type": "code",
     "collapsed": false,
     "input": [],
     "language": "python",
     "metadata": {},
     "outputs": [],
     "prompt_number": 0
    },
    {
     "cell_type": "heading",
     "level": 1,
     "metadata": {},
     "source": [
      "Phase Space: Spring"
     ]
    },
    {
     "cell_type": "markdown",
     "metadata": {},
     "source": [
      "![Pendulum](http://upload.wikimedia.org/wikipedia/commons/f/f0/HookesLawForSpring-English.png)"
     ]
    },
    {
     "cell_type": "markdown",
     "metadata": {},
     "source": [
      "Of course, only the gravitational force is involved, and the gravitational force is going to be a function of height from the ground. Using hooke's law, we see that the forcing function is:\n",
      "\n",
      "$$ F = -k x = m \\ddot x.$$\n",
      "\n",
      "We have defined the forcing function for this below:"
     ]
    },
    {
     "cell_type": "code",
     "collapsed": false,
     "input": [
      "def a_hooke(x):\n",
      "    '''\n",
      "    INPUT\n",
      "    x: scalar displacelemt\n",
      "    OUTPUT\n",
      "    a: acceleration\n",
      "    '''\n"
     ],
     "language": "python",
     "metadata": {},
     "outputs": [],
     "prompt_number": 1
    },
    {
     "cell_type": "code",
     "collapsed": false,
     "input": [],
     "language": "python",
     "metadata": {},
     "outputs": [],
     "prompt_number": 1
    },
    {
     "cell_type": "markdown",
     "metadata": {},
     "source": [
      "The obvious issue here is that our phase space plot isn't plotting out a full circle. We don't have a full picture of the dynamics! Let's go ahead and plot this again, but this time with a longer trajectory."
     ]
    },
    {
     "cell_type": "code",
     "collapsed": false,
     "input": [],
     "language": "python",
     "metadata": {},
     "outputs": [],
     "prompt_number": 1
    },
    {
     "cell_type": "markdown",
     "metadata": {},
     "source": [
      "As you can see, we basically copied and pasted much of the code to simulate the spring. This means that the code that we copied and pasted is a good candidate to make into a function so let's go ahead and do this.\n",
      "\n",
      "By using arguments like startTime = 0.0, we've gone ahead and taken advantage of python's ability to take keyworded arguments, which is one of python's really nice features. This feature allows you to define defaults for the specific method so that you don't have to always pass those values if you're okay with the defaults. For example:\n",
      "\n",
      "ode_int(10.0, 0.0, a_hooke, startTime = 0.0)\n",
      "\n",
      "will give the same answer as\n",
      "\n",
      "ode_int(10.0, 0.0, a_hooke).\n",
      "\n",
      "The other nice thing is that you can selectively pass values. For example, if you want to increase the time step, you can run:\n",
      "\n",
      "ode_int(10.0, 0.0, a_hooke, dt = 0.1)"
     ]
    },
    {
     "cell_type": "code",
     "collapsed": false,
     "input": [
      "def ode_integrate():\n",
      "    '''\n",
      "    This is the method that we created to stop the copying and pasting that we were doing to solve\n",
      "    ODEs.\n",
      "    INPUT\n",
      "    x0 = scalar or vector of initial positions\n",
      "    v0 = scalar or vector of initial velocities\n",
      "    a = function pointer to the acceleration function. Note that this can only be position dependent\n",
      "    startTime = optional argument, keyworded. Scalar that defines the starting point of the time array\n",
      "    stopTime = optional argument, keyworded. Scalar that defines the ending point of the time array\n",
      "    dt = optional argument, keyworded. Scalar that defines the time step of the time array\n",
      "    mass = optional argument, keyworded. Scalar that defines the mass of the object\n",
      "    OUTPUT\n",
      "    t = vector of times\n",
      "    xlist = vector of positions from the propagation\n",
      "    vlist = vector of velocities from the propagation\n",
      "    '''"
     ],
     "language": "python",
     "metadata": {},
     "outputs": [],
     "prompt_number": 2
    },
    {
     "cell_type": "heading",
     "level": 1,
     "metadata": {},
     "source": [
      "Proof that our newly defined method works"
     ]
    },
    {
     "cell_type": "code",
     "collapsed": false,
     "input": [],
     "language": "python",
     "metadata": {},
     "outputs": [],
     "prompt_number": 2
    },
    {
     "cell_type": "heading",
     "level": 1,
     "metadata": {},
     "source": [
      "Phase Space: Watch Spring"
     ]
    },
    {
     "cell_type": "markdown",
     "metadata": {},
     "source": [
      "![Watch Movement](http://upload.wikimedia.org/wikipedia/commons/7/74/Standard_Movement.jpg)"
     ]
    },
    {
     "cell_type": "markdown",
     "metadata": {},
     "source": [
      "As it turns out, hooke's law is a pretty poor approximation for many springs, including those on the inside of some watches, including mine. Over the summer, I was lucky enough to meet the watch maker that made my watch. In talking with him, he mentioned that he had characterized and calibrated the spring in my watch to third order! This means that the forcing equation for my watch spring, to a reasonable approximation:\n",
      "\n",
      "$$F = -k x - l x^2 - m x^3$$\n",
      "\n",
      "Let's pick some reasonable parameters and simulate it! We'll use this as a testing ground for our newly defined method."
     ]
    },
    {
     "cell_type": "code",
     "collapsed": false,
     "input": [
      "def a_watch(x):\n",
      "    '''\n",
      "    INPUT\n",
      "    x: scalar displacelemt\n",
      "    OUTPUT\n",
      "    a: acceleration\n",
      "    '''\n",
      "    k = 0.9\n",
      "    l = 1.2\n",
      "    m = 0.3\n",
      "    return -k*x - l*x*x - m*x*x*x"
     ],
     "language": "python",
     "metadata": {},
     "outputs": [],
     "prompt_number": 83
    },
    {
     "cell_type": "code",
     "collapsed": false,
     "input": [],
     "language": "python",
     "metadata": {},
     "outputs": [
      {
       "metadata": {},
       "output_type": "pyout",
       "prompt_number": 1,
       "text": [
        "4"
       ]
      }
     ],
     "prompt_number": 1
    },
    {
     "cell_type": "code",
     "collapsed": false,
     "input": [],
     "language": "python",
     "metadata": {},
     "outputs": []
    }
   ],
   "metadata": {}
  }
 ]
}