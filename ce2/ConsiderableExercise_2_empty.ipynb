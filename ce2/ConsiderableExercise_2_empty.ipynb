{
 "metadata": {
  "name": "",
  "signature": "sha256:a8c5993ec02af3b32dd31bfff44b1d9b41603bdc6ba7a5f20c9e1b7c34267910"
 },
 "nbformat": 3,
 "nbformat_minor": 0,
 "worksheets": [
  {
   "cells": [
    {
     "cell_type": "heading",
     "level": 1,
     "metadata": {},
     "source": [
      "COLLABORATION IS FORBIDDEN ON THIS EXERCISE"
     ]
    },
    {
     "cell_type": "heading",
     "level": 1,
     "metadata": {},
     "source": [
      "Final Considerable Exercise: Hartree Fock"
     ]
    },
    {
     "cell_type": "heading",
     "level": 3,
     "metadata": {},
     "source": [
      "Due Dec 2, 2014"
     ]
    },
    {
     "cell_type": "heading",
     "level": 3,
     "metadata": {},
     "source": [
      "Fall 2014"
     ]
    },
    {
     "cell_type": "heading",
     "level": 3,
     "metadata": {},
     "source": [
      "Chemistry 160: The Quantum World"
     ]
    },
    {
     "cell_type": "heading",
     "level": 3,
     "metadata": {},
     "source": [
      "By: Albert Young"
     ]
    },
    {
     "cell_type": "markdown",
     "metadata": {},
     "source": [
      "In lecture we learned about the Hartree-Fock approximation. We saw that the energy expression was\n",
      "$$E = \\sum_{j=1}^N I_j + \\sum_{i=1}^N \\sum_{j=1}^N \\left( 2 J_{ij} - K_{ij} \\right)$$\n",
      "where\n",
      "$$I_j = \\int \\psi^\\dagger_j(r_j) \\left( -\\frac{1}{2}\\nabla^2_j - \\sum_A^M \\frac{Z_A}{R_{jA}}  \\right) \\psi_j(r_j) $$\n",
      "is the 1 electron integral,\n",
      "$$J_{ij} = \\int \\int \\psi^*_i(r_1) \\psi^*_j(r_2) \\frac{1}{r_{12}} \\psi_i(r_1) \\psi_j(r_2) $$\n",
      "is the coulomb integral, and\n",
      "$$K_{ij} = \\int \\int \\psi^*_i(r_1) \\psi^*_j(r_2) \\frac{1}{r_{12}} \\psi_i(r_2) \\psi_j(r_1) $$\n",
      "is the exchange integral.\n",
      "\n",
      "If we had an exact expression for our many-body wave function, we could get the exact energy. Instead, we have no such expression, so we must use the best trial wave function we can using the variational method. To obtain this trial wave-function, we solve the Hartree-Fock equations below:\n",
      "$$F(r_1) \\psi_i(r_1) = \\epsilon_i \\psi_i(r_1),$$\n",
      "where\n",
      "$$F(r_1) = h_{core}(r_1) + \\sum_{j=1}^N \\left[ 2 J_j(r_1) - K_j(r_1) \\right],$$\n",
      "$$h_{core}(r_1) = -\\frac{1}{2} \\nabla_1^2 - \\sum_A \\frac{Z_A}{r_{1A}},$$\n",
      "$$J_j(r_1) \\psi_j(r_1) = \\psi_i(r_1) \\int dr_2 \\psi^*_j(r_2) \\frac{1}{r_{12}} \\psi_j(r_2)$$\n",
      "$$K_j(r_1) \\psi_j(r_1) = \\psi_j(r_1) \\int dr_2 \\psi^*_j(r_2) \\frac{1}{r_{12}} \\psi_i(r_2).$$\n",
      "\n",
      "By solving the equations above, we can obtain orbital energies\n",
      "$$\\epsilon_i = I_i + \\sum_{j=1}^N \\left( 2 J_{ij} - K_{ij} \\right),$$\n",
      "\n",
      "which provides an approximation to the total energy\n",
      "$$E = \\sum_{i=1}^N\\left( I_i + \\epsilon_i \\right).$$\n",
      "\n",
      "If we expand our wave function, $\\psi$, into a basis, $\\phi$, using the formula\n",
      "$$\\psi(r) = \\sum_k c_k \\phi_k(r)$$,\n",
      "the our Fock operator takes the form\n",
      "$$\\sum_j F_{ij} c_j = \\epsilon \\sum_j S_{ij} c_j$$\n",
      "where\n",
      "$$F_{ij} = \\int dr_1 \\phi^*_i(r_1) F(r_1) \\phi_j(r_1)$$\n",
      "and\n",
      "$$S_{ij} = \\int dr_1 \\phi_i^*(r_1) \\phi_j(r_1).$$\n",
      "\n",
      "This means that solving the Hartree-Fock equations simplifies to solving the following generalized matrix equation:\n",
      "$$ F c = \\epsilon S c.$$\n",
      "This equation will have to be solved self consistently, because F depends on c, so we will search for stationary points. This is what we will work towards solving in this exercise. We will work towards implementing the equations that have been rendered above in code in the first two parts of this exercise. With a functioning code, we will then apply it to explore multiple chemically interesting problems."
     ]
    },
    {
     "cell_type": "heading",
     "level": 3,
     "metadata": {},
     "source": [
      "Let's start by importing things"
     ]
    },
    {
     "cell_type": "code",
     "collapsed": false,
     "input": [
      "# imports\n",
      "import imp\n",
      "quantumWorld = imp.load_source('quantumWorld','/home/chem160/chem160_lib/QuantumWorldLib.py')\n",
      "import numpy as np # Numpy import\n",
      "from scipy.linalg import eigh\n",
      "from mayavi import mlab\n",
      "\n",
      "from PyQuante.Molecule import Molecule\n",
      "from PyQuante import Ints"
     ],
     "language": "python",
     "metadata": {},
     "outputs": [
      {
       "output_type": "stream",
       "stream": "stderr",
       "text": [
        "WARNING:traits.has_traits:DEPRECATED: traits.has_traits.wrapped_class, 'the 'implements' class advisor has been deprecated. Use the 'provides' class decorator.\n"
       ]
      },
      {
       "output_type": "stream",
       "stream": "stderr",
       "text": [
        "WARNING:root:openbabel not found in path, switching to PyQuante backend\n"
       ]
      },
      {
       "output_type": "stream",
       "stream": "stderr",
       "text": [
        "WARNING:root:libint extension not found, switching to normal ERI computation\n"
       ]
      }
     ],
     "prompt_number": 1
    },
    {
     "cell_type": "code",
     "collapsed": false,
     "input": [
      "%qtconsole"
     ],
     "language": "python",
     "metadata": {},
     "outputs": [],
     "prompt_number": 2
    },
    {
     "cell_type": "heading",
     "level": 1,
     "metadata": {},
     "source": [
      "1) Writing all the helper functions"
     ]
    },
    {
     "cell_type": "markdown",
     "metadata": {},
     "source": [
      "We'll be using some of the predefined data structures from PyQuante to conveniently keep track of many of the more difficult  (and less instructive) parts of quantum chemical simulations. The first part of this is the Molecule object. The way to think of this object is a collection where you put the name, atom list with coordinates, and units in a standardized format such that the program can understand.\n",
      "\n",
      "Let's make this more concrete:\n",
      "<code>\n",
      "variable_name = Molecule('name',\n",
      "                          atomlist = [(atomic_number,(x1, y1, z1)),\n",
      "                                      (atomic_number,(x2, y2, z2))],\n",
      "                          units = 'Bohr')\n",
      "</code>\n",
      "This is the general call to create a molecule collection named \"name\" with 2 atoms. Below, I've created a hydrogen molecule with name h2, and internuclear spacing of 1.4 bohr.\n",
      "<code>\n",
      "h2 = Molecule('h2',\n",
      "              atomlist = [(1,(0.,0.,0.7)),(1,(0.,0.,-0.7))],\n",
      "              units = 'Bohr')\n",
      "</code>"
     ]
    },
    {
     "cell_type": "code",
     "collapsed": false,
     "input": [
      "# Test Molecule\n",
      "h2 = Molecule('h2',\n",
      "              atomlist = [(1,(0.,0.,0.7)),(1,(0.,0.,-0.7))],\n",
      "              units = 'Bohr')"
     ],
     "language": "python",
     "metadata": {},
     "outputs": [],
     "prompt_number": 3
    },
    {
     "cell_type": "markdown",
     "metadata": {},
     "source": [
      "The next thing we need to do is generate the basis functions for the molecule. This can be done for us by PyQuante as well with the <code> Ints.getbasis(molecule_name)</code> method as seen below:\n",
      "\n",
      "For the curious, this imports the default basis set, 6-31G*"
     ]
    },
    {
     "cell_type": "code",
     "collapsed": false,
     "input": [
      "test_fns = Ints.getbasis(h2)"
     ],
     "language": "python",
     "metadata": {},
     "outputs": [],
     "prompt_number": 4
    },
    {
     "cell_type": "markdown",
     "metadata": {},
     "source": [
      "Finally, we're going to import the known answers for the methods below so that you can check yourself as you go along. If your method fails to give the right answer, stop and debug immediately!"
     ]
    },
    {
     "cell_type": "code",
     "collapsed": false,
     "input": [
      "# Load tests:\n",
      "S_exact = np.load('S_exact.npy')\n",
      "T_exact = np.load('T_exact.npy')\n",
      "V_exact = np.load('V_exact.npy')\n",
      "G_exact = np.load('G_exact.npy')\n",
      "rho_exact = np.load('rho_exact.npy')\n",
      "twoEIntegralsExact = np.load('twoEIntegralsExact.npy')"
     ],
     "language": "python",
     "metadata": {},
     "outputs": [],
     "prompt_number": 5
    },
    {
     "cell_type": "heading",
     "level": 3,
     "metadata": {},
     "source": [
      "The Overlap Matrix"
     ]
    },
    {
     "cell_type": "markdown",
     "metadata": {},
     "source": [
      "We're going to start off easy. First, we're going to write a function to build the overlap matrix. However, there are a few things to note before we get started. Because we're using the PyQuante definition of the basis, we have a built-in overlap function that can be accessed via:\n",
      "<code>\n",
      "bfns[i].overlap(bfns[j]).\n",
      "</code>\n",
      "Said more explicitly, the code above gives you the overlap of a basis function indexed by $i$ with another basis function indexed by $j$.\n",
      "\n",
      "Given this, we'll want to define an array, S, of size $N_{bfs} \\times N_{bfs}$ and fill each $i,j$ element with the overlap of each basis function $i$ with the basis function $j$. Note, to finding the number of basis functions is found via: \n",
      "<code>\n",
      "num_bfns = len(bfns)\n",
      "</code>"
     ]
    },
    {
     "cell_type": "code",
     "collapsed": false,
     "input": [
      "def S_builder(bfns):\n",
      "    num_bfns = len(bfns)\n",
      "    S = np.zeros(shape=(num_bfns, num_bfns))\n",
      "    for i in xrange(num_bfns):\n",
      "        for j in xrange(num_bfns):\n",
      "            S[i, j] = bfns[i].overlap(bfns[j])\n",
      "    return S"
     ],
     "language": "python",
     "metadata": {},
     "outputs": [],
     "prompt_number": 6
    },
    {
     "cell_type": "code",
     "collapsed": false,
     "input": [
      "# Test. Should return a matrix of zeros.\n",
      "S = S_builder(test_fns)\n",
      "print S_builder(test_fns) - S_exact"
     ],
     "language": "python",
     "metadata": {},
     "outputs": [
      {
       "output_type": "stream",
       "stream": "stdout",
       "text": [
        "[[ -2.84768251e-08  -9.37303357e-09   0.00000000e+00   0.00000000e+00\n",
        "   -2.52130043e-24  -1.29438272e-08  -7.24395788e-09   0.00000000e+00\n",
        "    0.00000000e+00  -6.69130240e-09]\n",
        " [ -9.37303357e-09   3.33066907e-16   0.00000000e+00   0.00000000e+00\n",
        "    4.93038066e-32  -7.24395788e-09   3.33066907e-16   0.00000000e+00\n",
        "    0.00000000e+00   5.55111512e-17]\n",
        " [  0.00000000e+00   0.00000000e+00   3.33066907e-16   0.00000000e+00\n",
        "    0.00000000e+00   0.00000000e+00   0.00000000e+00   1.66533454e-16\n",
        "    0.00000000e+00   0.00000000e+00]\n",
        " [  0.00000000e+00   0.00000000e+00   0.00000000e+00   3.33066907e-16\n",
        "    0.00000000e+00   0.00000000e+00   0.00000000e+00   0.00000000e+00\n",
        "    1.66533454e-16   0.00000000e+00]\n",
        " [ -2.52130043e-24   4.93038066e-32   0.00000000e+00   0.00000000e+00\n",
        "    3.33066907e-16   6.69130240e-09  -5.55111512e-17   0.00000000e+00\n",
        "    0.00000000e+00  -1.66533454e-16]\n",
        " [ -1.29438272e-08  -7.24395788e-09   0.00000000e+00   0.00000000e+00\n",
        "    6.69130240e-09  -2.84768251e-08  -9.37303357e-09   0.00000000e+00\n",
        "    0.00000000e+00   2.52130043e-24]\n",
        " [ -7.24395788e-09   3.33066907e-16   0.00000000e+00   0.00000000e+00\n",
        "   -5.55111512e-17  -9.37303357e-09   3.33066907e-16   0.00000000e+00\n",
        "    0.00000000e+00  -4.93038066e-32]\n",
        " [  0.00000000e+00   0.00000000e+00   1.66533454e-16   0.00000000e+00\n",
        "    0.00000000e+00   0.00000000e+00   0.00000000e+00   3.33066907e-16\n",
        "    0.00000000e+00   0.00000000e+00]\n",
        " [  0.00000000e+00   0.00000000e+00   0.00000000e+00   1.66533454e-16\n",
        "    0.00000000e+00   0.00000000e+00   0.00000000e+00   0.00000000e+00\n",
        "    3.33066907e-16   0.00000000e+00]\n",
        " [ -6.69130240e-09   5.55111512e-17   0.00000000e+00   0.00000000e+00\n",
        "   -1.66533454e-16   2.52130043e-24  -4.93038066e-32   0.00000000e+00\n",
        "    0.00000000e+00   3.33066907e-16]]\n"
       ]
      }
     ],
     "prompt_number": 7
    },
    {
     "cell_type": "markdown",
     "metadata": {},
     "source": [
      "**Use matshow to plot S. What do you notice about the diagonal entries? Which orbitals overlap with which other orbitals? Is there any pattern that you notice with respect to the quantum numbers? What does this say about the basis?**"
     ]
    },
    {
     "cell_type": "code",
     "collapsed": false,
     "input": [
      "matshow(S)"
     ],
     "language": "python",
     "metadata": {},
     "outputs": [
      {
       "metadata": {},
       "output_type": "pyout",
       "prompt_number": 8,
       "text": [
        "<matplotlib.image.AxesImage at 0x7fb161c02dd0>"
       ]
      },
      {
       "metadata": {},
       "output_type": "display_data",
       "png": "[encoded data removed]",
       "text": [
        "<matplotlib.figure.Figure at 0x7fb161fb0e50>"
       ]
      }
     ],
     "prompt_number": 8
    },
    {
     "cell_type": "markdown",
     "metadata": {},
     "source": [
      "** Place your answer here**"
     ]
    },
    {
     "cell_type": "heading",
     "level": 3,
     "metadata": {},
     "source": [
      "The Kinetic Energy Matrix"
     ]
    },
    {
     "cell_type": "markdown",
     "metadata": {},
     "source": [
      "The next thing that we're going to do is populate the kinetic energy matrix. We'll want to define an array, $T$, of size $N_{bfs} \\times N_{bfs}$ and fill each $i,j$ element with the kinetic energy matrix element between each basis function $i,j$. Note, the number of basis functions is found via: \n",
      "<code>\n",
      "num_bfns = len(bfns)\n",
      "</code>\n",
      "and the kinetic energy is again provided by a built-in PyQuante function:\n",
      "<code>\n",
      "bfns[i].kinetic(bfns[j])\n",
      "</code>"
     ]
    },
    {
     "cell_type": "code",
     "collapsed": false,
     "input": [
      "def T_builder(bfns):\n",
      "    n = len(bfns)\n",
      "    T = np.zeros(shape=(n, n))\n",
      "    for i in xrange(n):\n",
      "        for j in xrange(n):\n",
      "            T[i, j] = bfns[i].kinetic(bfns[j])\n",
      "    return T"
     ],
     "language": "python",
     "metadata": {},
     "outputs": [],
     "prompt_number": 9
    },
    {
     "cell_type": "code",
     "collapsed": false,
     "input": [
      "# Test. Should return a matrix of zeros.\n",
      "T = T_builder(test_fns)\n",
      "print T - T_exact"
     ],
     "language": "python",
     "metadata": {},
     "outputs": [
      {
       "output_type": "stream",
       "stream": "stdout",
       "text": [
        "[[ -3.97444861e-08  -3.69821518e-09   0.00000000e+00   0.00000000e+00\n",
        "   -4.99206726e-24  -6.60665636e-09  -2.36382258e-09   0.00000000e+00\n",
        "    0.00000000e+00  -9.37380673e-09]\n",
        " [ -3.69821518e-09   1.11022302e-16   0.00000000e+00   0.00000000e+00\n",
        "    3.69778549e-32  -2.36382258e-09   8.32667268e-17   0.00000000e+00\n",
        "    0.00000000e+00   4.16333634e-17]\n",
        " [  0.00000000e+00   0.00000000e+00   1.33226763e-15   0.00000000e+00\n",
        "    0.00000000e+00   0.00000000e+00   0.00000000e+00   2.22044605e-16\n",
        "    0.00000000e+00   0.00000000e+00]\n",
        " [  0.00000000e+00   0.00000000e+00   0.00000000e+00   1.33226763e-15\n",
        "    0.00000000e+00   0.00000000e+00   0.00000000e+00   0.00000000e+00\n",
        "    2.22044605e-16   0.00000000e+00]\n",
        " [ -3.00886713e-24   1.84889275e-32   0.00000000e+00   0.00000000e+00\n",
        "    1.33226763e-15   9.37380673e-09  -4.16333634e-17   0.00000000e+00\n",
        "    0.00000000e+00  -6.66133815e-16]\n",
        " [ -6.60665636e-09  -2.36382258e-09   0.00000000e+00   0.00000000e+00\n",
        "    9.37380673e-09  -3.97444861e-08  -3.69821518e-09   0.00000000e+00\n",
        "    0.00000000e+00   4.99206726e-24]\n",
        " [ -2.36382258e-09   8.32667268e-17   0.00000000e+00   0.00000000e+00\n",
        "   -4.16333634e-17  -3.69821518e-09   1.11022302e-16   0.00000000e+00\n",
        "    0.00000000e+00  -3.69778549e-32]\n",
        " [  0.00000000e+00   0.00000000e+00   2.22044605e-16   0.00000000e+00\n",
        "    0.00000000e+00   0.00000000e+00   0.00000000e+00   1.33226763e-15\n",
        "    0.00000000e+00   0.00000000e+00]\n",
        " [  0.00000000e+00   0.00000000e+00   0.00000000e+00   2.22044605e-16\n",
        "    0.00000000e+00   0.00000000e+00   0.00000000e+00   0.00000000e+00\n",
        "    1.33226763e-15   0.00000000e+00]\n",
        " [ -9.37380673e-09   4.16333634e-17   0.00000000e+00   0.00000000e+00\n",
        "   -6.66133815e-16   3.00886713e-24  -1.84889275e-32   0.00000000e+00\n",
        "    0.00000000e+00   1.33226763e-15]]\n"
       ]
      }
     ],
     "prompt_number": 10
    },
    {
     "cell_type": "markdown",
     "metadata": {},
     "source": [
      "**Use matshow to plot T. What do you notice about the diagonal entries? Which orbitals overlap with which other orbitals? Is there any pattern that you notice with respect to the quantum numbers? What does this say about the basis?**"
     ]
    },
    {
     "cell_type": "code",
     "collapsed": false,
     "input": [
      "matshow(T)"
     ],
     "language": "python",
     "metadata": {},
     "outputs": [
      {
       "metadata": {},
       "output_type": "pyout",
       "prompt_number": 11,
       "text": [
        "<matplotlib.image.AxesImage at 0x7fb161b78e90>"
       ]
      },
      {
       "metadata": {},
       "output_type": "display_data",
       "png": "[encoded data removed]",
       "text": [
        "<matplotlib.figure.Figure at 0x7fb161c3bc50>"
       ]
      }
     ],
     "prompt_number": 11
    },
    {
     "cell_type": "markdown",
     "metadata": {},
     "source": [
      "** Place your answer here **"
     ]
    },
    {
     "cell_type": "heading",
     "level": 3,
     "metadata": {},
     "source": [
      "One Electron Potential"
     ]
    },
    {
     "cell_type": "markdown",
     "metadata": {},
     "source": [
      "The next thing that we're going to want to do is populate the nuclear potential energy matrix. We'll want to define an array, $V$, of size $N_{bfs} \\times N_{bfs}$ and fill each $i,j$ element with the expectation value of potential energy between each basis function $i$ and the basis function $j$. Keep in mind, you're going to want to sum the nuclear contribution for each atom in the list of atoms given by the collection <code>atoms</code>. There are a few things to note\n",
      "\n",
      "<code>\n",
      "num_bfns = len(bfns),\n",
      "</code>\n",
      "the nuclear potential energy integral is given by the built-in:\n",
      "<code>\n",
      "bfns[i].nuclear(bfns[j]),\n",
      "</code>\n",
      "and you're going to want to multiply the nuclear integral by the nuclear charge, $Z$, which is found from the atom list via:\n",
      "<code>\n",
      "atom.atno\n",
      "</code>"
     ]
    },
    {
     "cell_type": "code",
     "collapsed": false,
     "input": [
      "def V_builder(bfns, atoms):\n",
      "    n = len(bfns)\n",
      "    V = np.zeros(shape=(n, n))\n",
      "    for i in xrange(n):\n",
      "        for j in xrange(n):\n",
      "            nuc = 0\n",
      "            for atom in atoms:\n",
      "                nuc = nuc + atom.atno * bfns[i].nuclear(bfns[j], atom.pos())            \n",
      "            V[i, j] = nuc\n",
      "    return V"
     ],
     "language": "python",
     "metadata": {},
     "outputs": [],
     "prompt_number": 89
    },
    {
     "cell_type": "code",
     "collapsed": false,
     "input": [
      "V = V_builder(test_fns, h2)\n",
      "print V - V_exact"
     ],
     "language": "python",
     "metadata": {},
     "outputs": [
      {
       "output_type": "stream",
       "stream": "stdout",
       "text": [
        "[[  6.70803613e-08   1.68103409e-08   0.00000000e+00   0.00000000e+00\n",
        "   -3.50332185e-09   2.96063123e-08   1.34492218e-08   0.00000000e+00\n",
        "    0.00000000e+00   1.65299510e-08]\n",
        " [  1.68103409e-08  -6.66133815e-16   0.00000000e+00   0.00000000e+00\n",
        "    1.11022302e-16   1.34492218e-08  -4.44089210e-16   0.00000000e+00\n",
        "    0.00000000e+00  -2.22044605e-16]\n",
        " [  0.00000000e+00   0.00000000e+00  -8.88178420e-16   0.00000000e+00\n",
        "    0.00000000e+00   0.00000000e+00   0.00000000e+00  -4.44089210e-16\n",
        "    0.00000000e+00   0.00000000e+00]\n",
        " [  0.00000000e+00   0.00000000e+00   0.00000000e+00  -8.88178420e-16\n",
        "    0.00000000e+00   0.00000000e+00   0.00000000e+00   0.00000000e+00\n",
        "   -4.44089210e-16   0.00000000e+00]\n",
        " [ -3.50332185e-09   1.11022302e-16   0.00000000e+00   0.00000000e+00\n",
        "   -8.88178420e-16  -1.65299510e-08   2.22044605e-16   0.00000000e+00\n",
        "    0.00000000e+00   6.66133815e-16]\n",
        " [  2.96063123e-08   1.34492218e-08   0.00000000e+00   0.00000000e+00\n",
        "   -1.65299510e-08   6.70803613e-08   1.68103409e-08   0.00000000e+00\n",
        "    0.00000000e+00   3.50332185e-09]\n",
        " [  1.34492218e-08  -4.44089210e-16   0.00000000e+00   0.00000000e+00\n",
        "    2.22044605e-16   1.68103409e-08  -6.66133815e-16   0.00000000e+00\n",
        "    0.00000000e+00  -1.11022302e-16]\n",
        " [  0.00000000e+00   0.00000000e+00  -4.44089210e-16   0.00000000e+00\n",
        "    0.00000000e+00   0.00000000e+00   0.00000000e+00  -8.88178420e-16\n",
        "    0.00000000e+00   0.00000000e+00]\n",
        " [  0.00000000e+00   0.00000000e+00   0.00000000e+00  -4.44089210e-16\n",
        "    0.00000000e+00   0.00000000e+00   0.00000000e+00   0.00000000e+00\n",
        "   -8.88178420e-16   0.00000000e+00]\n",
        " [  1.65299510e-08  -2.22044605e-16   0.00000000e+00   0.00000000e+00\n",
        "    6.66133815e-16   3.50332185e-09  -1.11022302e-16   0.00000000e+00\n",
        "    0.00000000e+00  -8.88178420e-16]]\n"
       ]
      }
     ],
     "prompt_number": 90
    },
    {
     "cell_type": "markdown",
     "metadata": {},
     "source": [
      "**Use matshow to plot V. What do you notice about the diagonal entries? Which orbitals overlap with which other orbitals? Is there any pattern that you notice with respect to the quantum numbers? Do you notice a pattern with respect to any of the  What does this say about the basis?**"
     ]
    },
    {
     "cell_type": "code",
     "collapsed": false,
     "input": [
      "matshow(V)"
     ],
     "language": "python",
     "metadata": {},
     "outputs": [
      {
       "metadata": {},
       "output_type": "pyout",
       "prompt_number": 14,
       "text": [
        "<matplotlib.image.AxesImage at 0x7fb161aae9d0>"
       ]
      },
      {
       "metadata": {},
       "output_type": "display_data",
       "png": "[encoded data removed]",
       "text": [
        "<matplotlib.figure.Figure at 0x7fb161b39f90>"
       ]
      }
     ],
     "prompt_number": 14
    },
    {
     "cell_type": "heading",
     "level": 3,
     "metadata": {},
     "source": [
      "2 Electron Integrals"
     ]
    },
    {
     "cell_type": "markdown",
     "metadata": {},
     "source": [
      "Build the core (1 electron) Hamiltonian by adding the kinetic and 1-electron potential operators. From there, diagonalize <code>h_core</code> (be sure to remember that this is a generalized eigenvalue problem!, Note: A generalized eigenvalue problem is one where the eigenfunctions are not orthogonal), and extract the occupied and unoccupied orbitals using <code>get_closedopen()</code>. Call them <code>nocc</code> and <code>nopen</code>. "
     ]
    },
    {
     "cell_type": "code",
     "collapsed": false,
     "input": [
      "h_core = V + T\n",
      "w, orbitals = eigh(h_core, S)\n",
      "nocc, nopen = h2.get_closedopen()"
     ],
     "language": "python",
     "metadata": {},
     "outputs": [],
     "prompt_number": 93
    },
    {
     "cell_type": "markdown",
     "metadata": {},
     "source": [
      "Next, we're going to write a function that populates an array with all the 2-electron integrals (these compute the Coulomb and exchange energies between pairs of orbitals). \n",
      "\n",
      "Because these integrals are very computationally intensive to compute and used quite a bit throughout the code, we're going to compute them when we start our computation and then just use them over and over. The integrals that we're going to compute are of the form:\n",
      "\n",
      "$$ \\left( ij \\,|\\, kl \\right) = \\int \\phi_i(r_1) \\phi_j(r_1) \\frac{1}{r_{12}} \\phi_k(r_2) \\phi_l(r_2) \\;dr_1 dr_2$$\n",
      "These integrals have an 8 fold permutational symmetry such that $(ij\\,|\\,kl) = (ji\\,|\\,kl) = (ij\\,|\\,lk) = (ji\\,|\\,lk) = (kl\\,|\\,ij) = (lk\\,|\\,ij) = (kl\\,|\\,ji) = (lk\\,|\\,ji),$ so we can reduce our storage cost by almost an order of magnitude. Because we're going to only be computing the permutationally unique integrals, we're going to need to have a way to index them. We will call this our multi-index (or compound index), and it will be computed by the intindex method from within PyQuante.\n",
      "\n",
      "Don't worry, we'll walk you through how to write this method to take advantage of all the symmetry. Basically, you're going to want to do the following:\n",
      "\n",
      "1) Create an array with length = $N_{bfs} \\times (N_{bfs} + 1) \\times (N_{bfs}^2 + N_{bfs} + 2)/8$\n",
      "\n",
      "2) Write 4 for-loops. One each for $i$, $j$, $k$, and $l$. $i$ will go $0$ to $N_{bfns}$, $j$ will go from $0$ to $i+1$, $k$ will go from $0$ to $N_{bfns}$, and $l$ will go from $0$ to $k+1$.\n",
      "\n",
      "3) Define $ij = i*(i+1)/2 + j$\n",
      "\n",
      "4) Define $kl = k*(k+1)/2 + l$\n",
      "\n",
      "5) If $ij \\le kl$, perform the following:\n",
      "\n",
      "   <code>integrals[intindex(i, j, k, l)] = coulomb(bfns[i], bfns[j], bfns[k], bfns[l])</code>"
     ]
    },
    {
     "cell_type": "code",
     "collapsed": false,
     "input": [
      "def twoElectronInts(bfns):\n",
      "    from PyQuante.CGBF import CGBF\n",
      "    from PyQuante.Ints import coulomb\n",
      "    from PyQuante.cints import ijkl2intindex as intindex\n",
      "    nbfs = len(bfns)\n",
      "    integrals = np.zeros(shape=(nbfs*(nbfs+1)*(nbfs**2+nbfs+2)/8))\n",
      "    for i in xrange(nbfs):\n",
      "        for j in xrange(i + 1):\n",
      "            for k in xrange(nbfs):\n",
      "                for l in xrange(k + 1):\n",
      "                    ij = i*(i+1)/2+j\n",
      "                    kl = k*(k+1)/2+l\n",
      "                    if ij < kl:\n",
      "                        integrals[intindex(i, j, k, l)] = coulomb(bfns[i], bfns[j], bfns[k], bfns[l])\n",
      "\n",
      "    return integrals"
     ],
     "language": "python",
     "metadata": {},
     "outputs": [],
     "prompt_number": 94
    },
    {
     "cell_type": "code",
     "collapsed": false,
     "input": [
      "# Test. Should print an array of zeros.\n",
      "test_twoElectronInts = twoElectronInts(test_fns)\n",
      "print np.max(twoElectronInts(test_fns) - twoEIntegralsExact)"
     ],
     "language": "python",
     "metadata": {},
     "outputs": [
      {
       "output_type": "stream",
       "stream": "stdout",
       "text": [
        "2.86577627184e-08\n"
       ]
      }
     ],
     "prompt_number": 95
    },
    {
     "cell_type": "heading",
     "level": 3,
     "metadata": {},
     "source": [
      "J Integrals"
     ]
    },
    {
     "cell_type": "markdown",
     "metadata": {},
     "source": [
      "With our newly computed integrals in hand, we're going to want to write helper functions to retrieve the relevant Coulomb integrals. To do this, we'll want to do the following:\n",
      "\n",
      "1) Initilize a variable, $kl$, as 0\n",
      "\n",
      "2) Loop over $k$ and $l$ in range $N_{bfs}$ \n",
      "\n",
      "3) Inside the loop do the following\n",
      "\n",
      "    1) Compute the index for i, j, k, l using the intindex function\n",
      "\n",
      "    2) Fill the kl element of an array called jints with the index that you just calculated\n",
      "\n",
      "    3) Increment kl by 1"
     ]
    },
    {
     "cell_type": "code",
     "collapsed": false,
     "input": [
      "def jint(ints, i, j, nbfs):\n",
      "    from PyQuante.cints import ijkl2intindex as intindex\n",
      "    kl = 0\n",
      "    jints = np.zeros(nbfs**2)\n",
      "    for k in xrange(nbfs):\n",
      "        for l in xrange(nbfs):\n",
      "            idx = intindex((i, j, k, l))\n",
      "            jints[kl] = idx\n",
      "            print kl\n",
      "            kl = kl + 1\n",
      "    return jints"
     ],
     "language": "python",
     "metadata": {},
     "outputs": [],
     "prompt_number": 96
    },
    {
     "cell_type": "heading",
     "level": 3,
     "metadata": {},
     "source": [
      "K Integrals"
     ]
    },
    {
     "cell_type": "markdown",
     "metadata": {},
     "source": [
      "Our next helper function will compoute the so-caleld \"K-Integrals\". You'll want to do the following:\n",
      "\n",
      "1) Initilize a variable, $kl$, as 0\n",
      "\n",
      "2) Loop over $k$ and $l$ in range $N_{bfs}$ \n",
      "\n",
      "3) Inside the loop, do the following\n",
      "\n",
      "    1) Compute the index for i, k, j, l using the intindex function (Note the swapping of k and j)\n",
      "\n",
      "    2) Fill the kl element of an array called kints with the index that you just calculated\n",
      "\n",
      "    3) Increment kl by 1"
     ]
    },
    {
     "cell_type": "code",
     "collapsed": false,
     "input": [
      "def kint(ints, i, j, nbfs):\n",
      "    from PyQuante.cints import ijkl2intindex as intindex\n",
      "    kl = 0\n",
      "    kints = np.zeros(nbfs**2)\n",
      "    for k in xrange(nbfs):\n",
      "        for l in xrange(nbfs):\n",
      "            idx = intindex((i, k, j, l))\n",
      "            kints[kl] = idx\n",
      "            kl = kl + 1\n",
      "    return kints"
     ],
     "language": "python",
     "metadata": {},
     "outputs": [],
     "prompt_number": 97
    },
    {
     "cell_type": "heading",
     "level": 3,
     "metadata": {},
     "source": [
      "Density Matrix"
     ]
    },
    {
     "cell_type": "markdown",
     "metadata": {},
     "source": [
      "Next, we're going to want to write a method to make our density matrix. Remember that the density matrix, $\\rho$, is given by:\n",
      "\n",
      "$$\\rho(r, r') = \\psi(r)^*\\psi(r'),$$\n",
      "\n",
      "and that, for us, \n",
      "$$\\psi(r) = \\sum_i c_i \\phi_i(r).$$\n",
      "\n",
      "This means that in code, we're going to take the orbital expansion coefficients (which we get from the eigenvectors), and take the outter product:\n",
      "$$\n",
      "C C^T\n",
      "$$\n",
      "Note, we're only going to want to apply Hund's rule by grabbing the occupied orbitals for computing this dot product\n",
      "<code>\n",
      "orbitals[:, 0:nocc]\n",
      "</code>"
     ]
    },
    {
     "cell_type": "code",
     "collapsed": false,
     "input": [
      "def makeDensityMatrix(orbitals, nocc):\n",
      "    C = orbitals[:, 0:nocc]\n",
      "    rho = np.dot(C, C.T)\n",
      "    return rho"
     ],
     "language": "python",
     "metadata": {},
     "outputs": [],
     "prompt_number": 98
    },
    {
     "cell_type": "code",
     "collapsed": false,
     "input": [
      "# Test. Should print a matrix of zeros.\n",
      "print np.round(makeDensityMatrix(orbitals, nocc) - rho_exact, 10)"
     ],
     "language": "python",
     "metadata": {},
     "outputs": [
      {
       "output_type": "stream",
       "stream": "stdout",
       "text": [
        "[[  5.10000000e-09   1.00000000e-09   0.00000000e+00   0.00000000e+00\n",
        "   -2.00000000e-10   5.10000000e-09   1.00000000e-09   0.00000000e+00\n",
        "    0.00000000e+00   2.00000000e-10]\n",
        " [  1.00000000e-09   0.00000000e+00   0.00000000e+00   0.00000000e+00\n",
        "   -0.00000000e+00   1.00000000e-09   0.00000000e+00   0.00000000e+00\n",
        "    0.00000000e+00  -0.00000000e+00]\n",
        " [  0.00000000e+00   0.00000000e+00   0.00000000e+00   0.00000000e+00\n",
        "   -0.00000000e+00   0.00000000e+00   0.00000000e+00  -0.00000000e+00\n",
        "   -0.00000000e+00   0.00000000e+00]\n",
        " [  0.00000000e+00   0.00000000e+00   0.00000000e+00   0.00000000e+00\n",
        "   -0.00000000e+00   0.00000000e+00   0.00000000e+00   0.00000000e+00\n",
        "   -0.00000000e+00   0.00000000e+00]\n",
        " [ -2.00000000e-10  -0.00000000e+00  -0.00000000e+00  -0.00000000e+00\n",
        "    0.00000000e+00  -2.00000000e-10  -0.00000000e+00  -0.00000000e+00\n",
        "   -0.00000000e+00   0.00000000e+00]\n",
        " [  5.10000000e-09   1.00000000e-09   0.00000000e+00   0.00000000e+00\n",
        "   -2.00000000e-10   5.10000000e-09   1.00000000e-09   0.00000000e+00\n",
        "    0.00000000e+00   2.00000000e-10]\n",
        " [  1.00000000e-09   0.00000000e+00   0.00000000e+00   0.00000000e+00\n",
        "   -0.00000000e+00   1.00000000e-09   0.00000000e+00   0.00000000e+00\n",
        "    0.00000000e+00  -0.00000000e+00]\n",
        " [  0.00000000e+00   0.00000000e+00  -0.00000000e+00   0.00000000e+00\n",
        "   -0.00000000e+00   0.00000000e+00   0.00000000e+00  -0.00000000e+00\n",
        "   -0.00000000e+00   0.00000000e+00]\n",
        " [  0.00000000e+00   0.00000000e+00  -0.00000000e+00  -0.00000000e+00\n",
        "   -0.00000000e+00   0.00000000e+00   0.00000000e+00  -0.00000000e+00\n",
        "   -0.00000000e+00   0.00000000e+00]\n",
        " [  2.00000000e-10  -0.00000000e+00   0.00000000e+00   0.00000000e+00\n",
        "    0.00000000e+00   2.00000000e-10  -0.00000000e+00   0.00000000e+00\n",
        "    0.00000000e+00  -0.00000000e+00]]\n"
       ]
      }
     ],
     "prompt_number": 99
    },
    {
     "cell_type": "heading",
     "level": 3,
     "metadata": {},
     "source": [
      "2-Electron Hamiltonian"
     ]
    },
    {
     "cell_type": "markdown",
     "metadata": {},
     "source": [
      "We're going to build the two electron part of the hamiltonian. The formula to do this is:\n",
      "$$ (2J - K) \\rho.$$ To do this, you're going to want to do the following steps:\n",
      "\n",
      "1) Reshape $\\rho$ so that it's a vector instead of an array. We do this because it's faster and slightly easier to conceptualize the contraction. We're going to do this via <code>np.reshape(rho, (num_bfns*num_bfns, ))</code>. Note, it's easiest to find $N_{bfs}$ by extracting the shape of $\\rho$, because $\\rho$ is of shape $N_{bfs} \\times N_{bfs}$\n",
      "\n",
      "2) We're going to want to write a loop over $i$ from $0$ to $N_{bfs}$ and $j$ from $0$ to $i+1$, so that we only fill the upper triangle of the matrix. We do this because know that $G$ is real and Hermitian, so $G_{ij} = G_{ji}$.\n",
      "\n",
      "3) Take the dot product of your reshaped density matrix with <code>2*jints(Ints, i, j, num_bfns) - kints(Ints, i, j, num_bfns)</code> and assign that to $G_{ij}$. Use the Hermiticity property to then set $G_{ji}$ equal to $G_{ij}$"
     ]
    },
    {
     "cell_type": "code",
     "collapsed": false,
     "input": [
      "def Gbuilder(Ints, rho):\n",
      "\n",
      "    return G"
     ],
     "language": "python",
     "metadata": {},
     "outputs": [],
     "prompt_number": 24
    },
    {
     "cell_type": "code",
     "collapsed": false,
     "input": [
      "np.set_printoptions(precision=3, linewidth=140)\n",
      "print np.round(G_exact - Gbuilder(twoEIntegralsExact, rho_exact), 10)"
     ],
     "language": "python",
     "metadata": {},
     "outputs": [],
     "prompt_number": 39
    },
    {
     "cell_type": "markdown",
     "metadata": {},
     "source": [
      "Next, we're going to want to write a function to compute the energy. The formula is given by:\n",
      "$$ E = \\sum_i \\sum_j \\left( h^{core}_{ij} + F_{ij} \\right) \\rho_{ij} + E_{nuc}$$\n",
      "\n",
      "In code, the easiest way to to do this double sum is to write <code> np.sum(np.sum(rho*hcore)) </code>\n",
      "\n",
      "And let's remember to add on the nuclear energy so as not to make Alan's mistake!"
     ]
    },
    {
     "cell_type": "code",
     "collapsed": false,
     "input": [
      "def get_energy(hcore, F, rho, enuke=0):\n",
      "    return E"
     ],
     "language": "python",
     "metadata": {},
     "outputs": [],
     "prompt_number": 26
    },
    {
     "cell_type": "heading",
     "level": 1,
     "metadata": {},
     "source": [
      "2) Hartree-Fock"
     ]
    },
    {
     "cell_type": "heading",
     "level": 3,
     "metadata": {},
     "source": [
      "Piece by Piece"
     ]
    },
    {
     "cell_type": "markdown",
     "metadata": {},
     "source": [
      "Finally, we're going to want to use all the functions we wrote up above to actually create the Hartree Fock method! Ultimately, all of the steps that we write below will go into a method called <cod>hf</code>, but before we do that we're going to just write it 5 lines at a time just to check our understanding first."
     ]
    },
    {
     "cell_type": "markdown",
     "metadata": {},
     "source": [
      "First, let's begin by retrieving the number of occupied and open orbitals, the basis functions, the nuclear energy, and the integrals. Note, you can get the number of closed and open orbitals from the molecule object by simply writing \n",
      "\n",
      "<code>nocc, nopen = molecule.get_closedopen().</code> \n",
      "\n",
      "for H$_2$, this is specifically\n",
      "\n",
      "<code>nocc, nopen = h2.get_closedopen()</code>\n",
      "\n",
      "while for the nuclear energy you can use the PyQuant built-in: <code> h2.get_enuke()</code>\n"
     ]
    },
    {
     "cell_type": "code",
     "collapsed": false,
     "input": [],
     "language": "python",
     "metadata": {},
     "outputs": [],
     "prompt_number": 26
    },
    {
     "cell_type": "markdown",
     "metadata": {},
     "source": [
      "Next, we're going to want to build the various one electron matrices, S, T, V, and h$^{core}$. You'll want to use the methods that you wrote above."
     ]
    },
    {
     "cell_type": "code",
     "collapsed": false,
     "input": [],
     "language": "python",
     "metadata": {},
     "outputs": [],
     "prompt_number": 26
    },
    {
     "cell_type": "markdown",
     "metadata": {},
     "source": [
      "Next, we'll want to build our initial guess for the SCF loop. There are many ways to pick this but the easiest is to probably just find the eigenvectors and values of the core hamiltonian. Because we have nonorthogonal functions, we'll need to do this by passing both $h$ and $S$ to $eigh$. Also, initialize $eold$ and $nIter$ as zero. Define a convergence criterion <code>CONV_CRITERIA </code> of $10^{-4}$ and a maximum number of iterations <code>MAX_ITER</code> of 21."
     ]
    },
    {
     "cell_type": "code",
     "collapsed": false,
     "input": [],
     "language": "python",
     "metadata": {},
     "outputs": [],
     "prompt_number": 26
    },
    {
     "cell_type": "markdown",
     "metadata": {},
     "source": [
      "Next, write a while loop that exits on the condition that <code>nIter > MAX_ITER</code>.\n",
      "\n",
      "Within this loop, you'll want to \n",
      "\n",
      "1) Make your density matrix\n",
      "\n",
      "2) Construct $G$\n",
      "\n",
      "3) Construct the Fock matrix, $F$. Remember $F = h + G$\n",
      "\n",
      "4) Compute your energy using the <code>get_energy</code> method you wrote above\n",
      "\n",
      "5) Test if the absolute value of the difference between your energy computed above and the old energy is less than the convergence criteria . If true, break.\n",
      "\n",
      "6) Paste in the following line:\n",
      "\n",
      "<code> print (\"Iteration Number %i, Energy = %f, EnergyVar = %f\"%(nIter, energy, np.abs(energy - eold))) </code>\n",
      "\n",
      "7) Set your old energy to your current energy\n",
      "\n",
      "8) Compute the new orbital energies and orbitals from your Fock matrix by diagonalizing it. Remember, this is a generalized eigenvalue problem so you shouldn't forget about $S$.\n",
      "\n",
      "9) Add 1 to your iteration counter, <cod>nIter</code>."
     ]
    },
    {
     "cell_type": "code",
     "collapsed": false,
     "input": [],
     "language": "python",
     "metadata": {},
     "outputs": [],
     "prompt_number": 26
    },
    {
     "cell_type": "markdown",
     "metadata": {},
     "source": [
      "Did you get the following?\n",
      "<code>\n",
      "Iteration Number 0, Energy = -1.069185, EnergyVar = 1.069185\n",
      "Iteration Number 1, Energy = -1.130044, EnergyVar = 0.060858\n",
      "Iteration Number 2, Energy = -1.131259, EnergyVar = 0.001215\n",
      "</code>\n",
      "\n",
      "If so, it worked! Congragulations. Next, we're going to want to paste together the three boxes of code that you wrote into one big method called <code>hf(molecule,basis)</code>.\n",
      "\n",
      "One thing to remember is that the <code>hf</code> method should be written to work with a general molecule, so you'll want to change all the <code>h2</code> references to <code>molecule</code>. This way, it'll work for any molecule that you passed in."
     ]
    },
    {
     "cell_type": "code",
     "collapsed": false,
     "input": [
      "def hf(molecule, basis = None, Verbose = True):\n",
      "    from scipy.linalg import eigh\n",
      "\n",
      "    \n",
      "    \n",
      "    if nIter < MAX_ITER:\n",
      "        if Verbose:\n",
      "            print \"Converged in %i iterations\"%(nIter)\n",
      "    if Verbose:\n",
      "        print \"Final Hartree Fock Energy for %s is %f\"%(molecule.name, energy)\n",
      "    \n",
      "    return energy, orb_energies, orbitals"
     ],
     "language": "python",
     "metadata": {},
     "outputs": [],
     "prompt_number": 27
    },
    {
     "cell_type": "markdown",
     "metadata": {},
     "source": [
      "Now, let's check to make sure that the method that you wrote above gives the same answer as before. Run the box below. If it works, you should get the following output:\n",
      "<code>\n",
      "Iteration Number 0, Energy = -1.069185, EnergyVar = 1.069185\n",
      "Iteration Number 1, Energy = -1.130044, EnergyVar = 0.060858\n",
      "Iteration Number 2, Energy = -1.131259, EnergyVar = 0.001215\n",
      "Converged in 3 iterations\n",
      "Final Hartree Fock Energy for h2 is -1.131284\n",
      "</code>"
     ]
    },
    {
     "cell_type": "code",
     "collapsed": false,
     "input": [
      "h2 = Molecule('h2',\n",
      "          atomlist = [(1,(0.,0., 0.0)),(1,(0.,0., -1.4))],\n",
      "          units = 'Bohr')\n",
      "energy, orb_energies, orbitals = hf(h2)"
     ],
     "language": "python",
     "metadata": {},
     "outputs": [],
     "prompt_number": 39
    },
    {
     "cell_type": "markdown",
     "metadata": {},
     "source": [
      "Did it work? If so, you now have a working Hartree Fock method! Congrats!"
     ]
    },
    {
     "cell_type": "heading",
     "level": 1,
     "metadata": {},
     "source": [
      "3) The Dissociation Curve of the Hydrogen Molecule"
     ]
    },
    {
     "cell_type": "markdown",
     "metadata": {},
     "source": [
      "We're going to find the equilibrium bond distance for the $H_2$ using the Hartree-Fock method that we just wrote and compare with the experimental value of 1.3984 Bohr. The easiest way to do this is to create an array of radii and loop through it. At every point in the loop, you should make a new geometry for hydrogen and then compute the Hartree-Fock energy.\n",
      "\n",
      "**With this in hand, find the radius that corresponds to the minimum energy. What is it?**\n",
      "\n",
      "**Plot the dissociation curve of $H_2$**"
     ]
    },
    {
     "cell_type": "code",
     "collapsed": false,
     "input": [
      "R = np.arange(0.2, 6.0, 0.01)\n",
      "energy_array = np.zeros_like(R)\n",
      "\n",
      "# Put the rest of the code here"
     ],
     "language": "python",
     "metadata": {},
     "outputs": [],
     "prompt_number": 29
    },
    {
     "cell_type": "code",
     "collapsed": false,
     "input": [
      "quantumWorld.chem160_plotting([R],\n",
      "                              [energy_array],\n",
      "                              title='Dissociation Curve for $H_2$',\n",
      "                              xlabel='Internuclear Distance [au]',\n",
      "                              ylabel='Energy [au]')"
     ],
     "language": "python",
     "metadata": {},
     "outputs": [],
     "prompt_number": 39
    },
    {
     "cell_type": "markdown",
     "metadata": {},
     "source": [
      "** Place your answer here **"
     ]
    },
    {
     "cell_type": "heading",
     "level": 1,
     "metadata": {},
     "source": [
      "4) Minimum Hydrogen Angle for Water"
     ]
    },
    {
     "cell_type": "markdown",
     "metadata": {},
     "source": [
      "We're going to find the equilibrium bond angle for water using the Hartree-Fock method that we just wrote and compare with the experimental value of 104.5 degrees. The easiest way to do this is to create an array of angles and loop through it. At every point in the loop, you should make a new geometry for water as a function of angle and then compute the Hartree-Fock energy. Keep in mind that numpy's sine and cosine functions expect radians, so it's easiest to set up the grid in radians and then convert to degrees at the end.\n",
      "\n",
      "**With this in hand, find the angle that corresponds to the minimum energy. What is it? How does it compare?**\n",
      "\n",
      "**Plot the energy as a function of angle for water**"
     ]
    },
    {
     "cell_type": "code",
     "collapsed": false,
     "input": [
      "r = 1./0.52918\n",
      "dTheta = np.pi/32.0\n",
      "theta = np.arange(dTheta, np.pi-dTheta, dTheta)\n",
      "energy_list = np.zeros_like(theta)\n",
      "\n"
     ],
     "language": "python",
     "metadata": {},
     "outputs": [],
     "prompt_number": 31
    },
    {
     "cell_type": "code",
     "collapsed": false,
     "input": [
      "quantumWorld.chem160_plotting([theta*180.0/np.pi],\n",
      "                              [energy_list],\n",
      "                              title='Energy of water as a function of angle',\n",
      "                              xlabel='Angle [Deg]',\n",
      "                              ylabel='Energy [au]',\n",
      "                              ylimits=[-76.1, -75.8])"
     ],
     "language": "python",
     "metadata": {},
     "outputs": [],
     "prompt_number": 39
    },
    {
     "cell_type": "heading",
     "level": 1,
     "metadata": {},
     "source": [
      "5) Plotting the orbitals of Benzene"
     ]
    },
    {
     "cell_type": "markdown",
     "metadata": {},
     "source": [
      "Next, we're going to take the orbitals that we get out of a Hartree-Fock computation on benzene and plot them. Our goal is to reproduce the orbitals that we often see in quantum chemistry texts. We'll first have to take the molecule and run our Hartree-Fock method on it (note, we're going to have to use a smaller basis by also passing basis='sto3g' to the <code>hf</code> method we wrote). From there, you'll want to use the following code to plot the orbitals:\n",
      "\n",
      "<code>\n",
      "benzene_bfs = Ints.getbasis(c6h6, 'sto3g')\n",
      "plot_orbs(c6h6, benzene_orbs[:, orb_num], benzene_bfs)\n",
      "</code>\n",
      "\n",
      "where orb_num is the index for the orbital that you want to plot. You'll want to plot the LUMO, HOMO, HOMO - 4, LUMO - 5.\n",
      "\n",
      "We wrote an orbital plotting routine for you below. Just press shift+enter."
     ]
    },
    {
     "cell_type": "code",
     "collapsed": false,
     "input": [
      "def plot_orbs(molecule, orb, bfs, contour=None):\n",
      "    mlab.figure(1, bgcolor=(0, 0, 0), size=(750, 750))\n",
      "    mlab.clf()\n",
      "    \n",
      "    xarray = np.zeros((len(molecule), ))\n",
      "    yarray = np.zeros((len(molecule), ))\n",
      "    zarray = np.zeros((len(molecule), ))\n",
      "    white = (1,1,1)\n",
      "    gray = (0.5, 0.5, 0.5)\n",
      "    red = (1, 0, 0)\n",
      "    green = (0, 1, 0)\n",
      "    blue = (0, 0, 1)\n",
      "    color_dict = {1: (1, 1, 1), 7: blue, 6: gray, 8: red}\n",
      "    scale_dict = {1: 1, 7: 1.5, 6: 1.5, 8: 1.5}\n",
      "\n",
      "    for i in range(len(molecule)):\n",
      "        (xarray[i], yarray[i], zarray[i]) = molecule[i].r\n",
      "        at = mlab.points3d(xarray[i], yarray[i], zarray[i],\n",
      "                       scale_factor=scale_dict[molecule[i].atno],\n",
      "                       resolution=20,\n",
      "                       color=color_dict[molecule[i].atno],\n",
      "                       scale_mode='none')\n",
      "    \n",
      "    x, y, z = np.mgrid[min(xarray)-10.0:max(xarray)+10.0:100j,\n",
      "                       min(yarray)-10.0:max(yarray)+10.0:100j, \n",
      "                       min(zarray)-10.0:max(zarray)+10.0:100j]\n",
      "    fxyz = np.zeros((100, 100, 100))\n",
      "    for ibf in range(len(bfs)):\n",
      "        fxyz += orb[ibf]*bfs[ibf].amp(x, y, z)\n",
      "    fxyz = np.abs(fxyz)**2\n",
      "    src = mlab.pipeline.scalar_field(x, y, z, fxyz)\n",
      "    mlab.pipeline.iso_surface(src, contours=[fxyz.min()+0.02*fxyz.ptp(),], opacity=0.6)\n",
      "    mlab.show()"
     ],
     "language": "python",
     "metadata": {},
     "outputs": [],
     "prompt_number": 33
    },
    {
     "cell_type": "code",
     "collapsed": false,
     "input": [
      "# Let's test the orbital plotting routine on H2\n",
      "h2 = Molecule('h2',\n",
      "          atomlist = [(1,(0.,0., 0.0)),(1,(0.,0., -1.4))],\n",
      "          units = 'Bohr')\n",
      "energy, orb_energies, h2_orbs = hf(h2)\n",
      "bfs_h2 = Ints.getbasis(h2)\n",
      "plot_orbs(h2, h2_orbs[:,1], bfs_h2)"
     ],
     "language": "python",
     "metadata": {},
     "outputs": [],
     "prompt_number": 39
    },
    {
     "cell_type": "code",
     "collapsed": false,
     "input": [
      "# Defines the benzene geometry\n",
      "c6h6 = Molecule('C6H6',\n",
      "                [ (6, ( 0.98735329,     0.98735329,     0.00000000)),\n",
      "                  (6, ( 1.34874967,    -0.36139639,     0.00000000)),\n",
      "                  (6, ( 0.36139639,    -1.34874967,     0.00000000)),\n",
      "                  (6, (-0.98735329,    -0.98735329,     0.00000000)),\n",
      "                  (6, (-1.34874967,     0.36139639,     0.00000000)),\n",
      "                  (6, (-0.36139639,     1.34874967,     0.00000000)),\n",
      "                  (1, ( 1.75551741,     1.75551741,     0.00000000)),\n",
      "                  (1, ( 2.39808138,    -0.64256397,     0.00000000)),\n",
      "                  (1, ( 0.64256397,    -2.39808138,     0.00000000)),\n",
      "                  (1, (-1.75551741,    -1.75551741,     0.00000000)),\n",
      "                  (1, (-2.39808138,     0.64256397,     0.00000000)),\n",
      "                  (1, (-0.64256397,     2.39808138,     0.00000000))],\n",
      "               units='Angstrom')"
     ],
     "language": "python",
     "metadata": {},
     "outputs": [],
     "prompt_number": 35
    },
    {
     "cell_type": "code",
     "collapsed": false,
     "input": [
      "# Call your HF code on the benzene molecule that we just defined"
     ],
     "language": "python",
     "metadata": {},
     "outputs": [],
     "prompt_number": 36
    },
    {
     "cell_type": "code",
     "collapsed": false,
     "input": [
      "# Plot the orbitals"
     ],
     "language": "python",
     "metadata": {},
     "outputs": [],
     "prompt_number": 37
    },
    {
     "cell_type": "code",
     "collapsed": false,
     "input": [],
     "language": "python",
     "metadata": {},
     "outputs": [],
     "prompt_number": 37
    },
    {
     "cell_type": "markdown",
     "metadata": {},
     "source": [
      "** Do these orbitals look familiar? What observations can you make?**\n",
      "\n",
      "** Save your images and submit them with your code **"
     ]
    },
    {
     "cell_type": "markdown",
     "metadata": {},
     "source": [
      "** Place your answer here**"
     ]
    },
    {
     "cell_type": "heading",
     "level": 1,
     "metadata": {},
     "source": [
      "6) The Reaction of Formaldehyde with the Cyanide Anion"
     ]
    },
    {
     "cell_type": "markdown",
     "metadata": {},
     "source": [
      "Next, we're going to take the orbitals that we get out of a Hartree-Fock computation done on formaldehyde and cyanide and plot them. Our goal is to gain a qualitative picture of the reaction by examining the orbitals used in the reaction. We'll first have to take the molecules and run our Hartree-Fock method on them. From there, you'll want to plot the LUMO of formaldehyde and HOMO of cyanide."
     ]
    },
    {
     "cell_type": "code",
     "collapsed": false,
     "input": [
      "formaldehyde = Molecule('formaldehyde',\n",
      "                     [(6,( -0.11355, 1.72034, 0.00000)),\n",
      "                      (8,( -0.82891, 2.71431,-0.00000)),\n",
      "                      (1,(  0.91426, 1.73604, 0.39636)),\n",
      "                      (1,( -0.45481, 0.75072,-0.39636))],\n",
      "                     units='Bohr')\n",
      "\n",
      "cn = Molecule('cn',[(6,( -0.42588, 2.53975, 0.00000)),\n",
      "                    (7,(  0.33687, 3.35071, 0.00000))],\n",
      "                     units='Bohr',\n",
      "                     charge=-1)"
     ],
     "language": "python",
     "metadata": {},
     "outputs": [],
     "prompt_number": 38
    },
    {
     "cell_type": "code",
     "collapsed": false,
     "input": [],
     "language": "python",
     "metadata": {},
     "outputs": [],
     "prompt_number": 38
    },
    {
     "cell_type": "code",
     "collapsed": false,
     "input": [],
     "language": "python",
     "metadata": {},
     "outputs": [],
     "prompt_number": 38
    },
    {
     "cell_type": "code",
     "collapsed": false,
     "input": [],
     "language": "python",
     "metadata": {},
     "outputs": [],
     "prompt_number": 38
    },
    {
     "cell_type": "markdown",
     "metadata": {},
     "source": [
      "** Do these orbitals look familiar? What can you tell from the HOMO of the formaldehyde? The LUMO of the cyanide?**\n",
      "\n",
      "** Be sure to save images of these orbitals and submit them with your code **"
     ]
    },
    {
     "cell_type": "markdown",
     "metadata": {},
     "source": [
      "** Place your answers here **"
     ]
    },
    {
     "cell_type": "heading",
     "level": 1,
     "metadata": {},
     "source": [
      "Bonus 1) Your Own Chemical Application: Pick a chemical system or reaction of interest and apply your Hartree-Fock code to explain some features that are revealed by quantum chemistry."
     ]
    },
    {
     "cell_type": "heading",
     "level": 1,
     "metadata": {},
     "source": [
      "Bonus 2) Write your own DFT Code: More Directions to Come"
     ]
    },
    {
     "cell_type": "heading",
     "level": 1,
     "metadata": {},
     "source": [
      "Extras"
     ]
    },
    {
     "cell_type": "code",
     "collapsed": false,
     "input": [
      "ch4 = Molecule('ch4',\n",
      "                     [(6,( .0000000000, .0000000000, .0000000000)),\n",
      "                      (1,( .0000000000, .0000000000,1.0836058890)),\n",
      "                      (1,(1.0216334297, .0000000000,-.3612019630)),\n",
      "                      (1,(-.5108167148, .8847605034,-.3612019630)),\n",
      "                      (1,(-.5108167148,-.8847605034,-.3612019630))],\n",
      "                     units='Angstroms')\n",
      "energy, orb_energies, orbitals = hf(ch4)"
     ],
     "language": "python",
     "metadata": {},
     "outputs": [],
     "prompt_number": 39
    },
    {
     "cell_type": "code",
     "collapsed": false,
     "input": [],
     "language": "python",
     "metadata": {},
     "outputs": [],
     "prompt_number": 39
    },
    {
     "cell_type": "code",
     "collapsed": false,
     "input": [],
     "language": "python",
     "metadata": {},
     "outputs": []
    }
   ],
   "metadata": {}
  }
 ]
}