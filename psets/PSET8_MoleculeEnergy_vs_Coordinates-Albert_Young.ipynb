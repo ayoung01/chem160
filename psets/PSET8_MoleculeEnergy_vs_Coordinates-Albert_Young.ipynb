{
 "metadata": {
  "name": "",
  "signature": "sha256:4b7a83fe16455d3c5ac4eec0b1edf3d27279ace0344ffb7bfe1025bde98f247b"
 },
 "nbformat": 3,
 "nbformat_minor": 0,
 "worksheets": [
  {
   "cells": [
    {
     "cell_type": "heading",
     "level": 1,
     "metadata": {},
     "source": [
      "Introduction"
     ]
    },
    {
     "cell_type": "markdown",
     "metadata": {},
     "source": [
      " In this weekly problem set we'll perform some Hartree-Fock calculations on a couple of molecules. \n",
      " \n",
      " We'll vary the coordinates of the molecules' nuclei, either by changing bond distances or changing angles, and see how the energy of the ground state (obtained via a Hartree-Fock calculation) changes with geometry.  We'll compare some of our first-principle estimates with experimental values (e.g. equilibrium bond distances).  Finally, we are in a position to do some calculations on larger molecules. \n",
      "\n",
      "Unlike Considerable Exercise No. 2, where you will go further and code some of the innards of the Hartree-Fock method (**HAVE YOU STARTED WORKING ON CONSIDERABLE EXERCISE 2???**), here we'll use Hartree-Fock as implemented in PyQuante more like a **black box**.  \n"
     ]
    },
    {
     "cell_type": "heading",
     "level": 4,
     "metadata": {},
     "source": [
      "The idea is to give you a feel for how Hartree-Fock can be used to estimate physicochemical properties of molecules. And the examples worked here can help you come up with ideas to implement for the extra credit exercises (along with the in-class demos we've done in the last week)!!!"
     ]
    },
    {
     "cell_type": "heading",
     "level": 2,
     "metadata": {},
     "source": [
      "Import Libraries and Functions"
     ]
    },
    {
     "cell_type": "code",
     "collapsed": false,
     "input": [
      "# imports\n",
      "import imp\n",
      "\n",
      "\n",
      "quantumWorld = imp.load_source('quantumWorld','/home/chem160/chem160_lib/QuantumWorldLib.py')\n",
      "import numpy as np # Numpy import\n",
      "from scipy.linalg import eigh\n",
      "from mayavi import mlab\n",
      "\n",
      "from PyQuante.Molecule import Molecule\n",
      "from PyQuante import Ints\n",
      "from PyQuante import rohf\n",
      "\n",
      "\n",
      "import matplotlib.pyplot as plt\n",
      "\n",
      "import pydoc"
     ],
     "language": "python",
     "metadata": {},
     "outputs": [
      {
       "output_type": "stream",
       "stream": "stderr",
       "text": [
        "WARNING:traits.has_traits:DEPRECATED: traits.has_traits.wrapped_class, 'the 'implements' class advisor has been deprecated. Use the 'provides' class decorator.\n"
       ]
      },
      {
       "output_type": "stream",
       "stream": "stderr",
       "text": [
        "WARNING:root:openbabel not found in path, switching to PyQuante backend\n"
       ]
      },
      {
       "output_type": "stream",
       "stream": "stderr",
       "text": [
        "WARNING:root:libint extension not found, switching to normal ERI computation\n"
       ]
      }
     ],
     "prompt_number": 1
    },
    {
     "cell_type": "heading",
     "level": 2,
     "metadata": {},
     "source": [
      "General Function Definitions"
     ]
    },
    {
     "cell_type": "heading",
     "level": 3,
     "metadata": {},
     "source": [
      "This function plots the nuclei given the PyQuante molecule as input"
     ]
    },
    {
     "cell_type": "code",
     "collapsed": false,
     "input": [
      "def plot_nuclei(molecule):\n",
      "    mlab.figure(1, bgcolor=(0, 0, 0), size=(750, 750))\n",
      "    mlab.clf()\n",
      "    \n",
      "    xarray = np.zeros((len(molecule), ))\n",
      "    yarray = np.zeros((len(molecule), ))\n",
      "    zarray = np.zeros((len(molecule), ))\n",
      "    white = (1,1,1)\n",
      "    gray = (0.5, 0.5, 0.5)\n",
      "    red = (1, 0, 0)\n",
      "    green = (0, 1, 0)\n",
      "    blue = (0, 0, 1)\n",
      "    yellow = (1,1,0)\n",
      "    color_dict = {1: (1, 1, 1), 7: blue, 6: gray, 8: red, 9:yellow}\n",
      "    scale_dict = {1: 1, 7: 1.5, 6: 1.5, 8: 1.5, 9:1.5}\n",
      "\n",
      "    for i in range(len(molecule)):\n",
      "        (xarray[i], yarray[i], zarray[i]) = molecule[i].r\n",
      "        at = mlab.points3d(xarray[i], yarray[i], zarray[i],\n",
      "                       scale_factor=scale_dict[molecule[i].atno],\n",
      "                       resolution=20,\n",
      "                       color=color_dict[molecule[i].atno],\n",
      "                       scale_mode='none')\n",
      "    mlab.show()"
     ],
     "language": "python",
     "metadata": {},
     "outputs": [],
     "prompt_number": 2
    },
    {
     "cell_type": "heading",
     "level": 1,
     "metadata": {},
     "source": [
      "Part I: HF for HF: Running Hartree-Fock (HF) on Hydrogen Flouride (HF)"
     ]
    },
    {
     "cell_type": "heading",
     "level": 3,
     "metadata": {},
     "source": [
      "Write a function that returns a Pyquante molecule representing Hydrogen Fluoride (HF) given a bond length"
     ]
    },
    {
     "cell_type": "markdown",
     "metadata": {},
     "source": [
      "We'll write a function below, which takes as input a bond distance $r_0$ and returns a PyQuante molecule object that represents a Hydrogen Fluoride molecule with a bond distance of $r_0$ in Angstroms.  \n",
      "\n",
      "Recall that to create a molecule object you have to do something like:\n",
      "\n",
      "my_mol = Molecule('MyMolName', atomlist = [atom1, atom2], units = 'Angstroms')\n",
      "\n",
      "Where atom1 and atom2 are of the form:\n",
      "\n",
      "atom1 = (#, (x, y, z))\n",
      "\n",
      "Where # is the atomic number, and (x,y,z) are the coordinates. "
     ]
    },
    {
     "cell_type": "code",
     "collapsed": false,
     "input": [
      "def HF_geometry(r0):\n",
      "    '''r0 is bond length\n",
      "    Refere to diagram above for atom nomenclature\n",
      "    '''\n",
      "    ############# Two lines #############################\n",
      "    #Create an atom called H and an atom called F.  Use the PyQuante format mentioned above. \n",
      "    #Set the H atom at the origin.  And set the F atom at position (r0, 0, 0)\n",
      "    H = (1, (0,0,0))\n",
      "    F = (9, (r0,0,0))\n",
      "    ###################################################\n",
      "    \n",
      "    #######ONE LINE#########\n",
      "    #Generate PyQuante Molecule caled molecule, with the atomlist [H,F] and units of Angstroms\n",
      "    molecule = Molecule('HF',\n",
      "                        [H, F], units='Angstrom')\n",
      "    ##########################################################\n",
      "    return molecule"
     ],
     "language": "python",
     "metadata": {},
     "outputs": [],
     "prompt_number": 3
    },
    {
     "cell_type": "heading",
     "level": 3,
     "metadata": {},
     "source": [
      "Plot the nuclei for the bond distance specified in Wikipedia"
     ]
    },
    {
     "cell_type": "markdown",
     "metadata": {},
     "source": [
      "Go to wikipedia, or wherever you want, and find the value for the bond distance of Hydrogen Fluoride.  Call that value r0. And then use the function above to create a PyQuante molecule called HF (for Hydrogen Fluoride, not for Hartree Fock) with that bond distance. "
     ]
    },
    {
     "cell_type": "code",
     "collapsed": false,
     "input": [
      "######################Two lines########\n",
      "# Wikipedia says that H-F bond length is 95 pm = 0.95 angstroms\n",
      "r0 = 0.95\n",
      "#######################"
     ],
     "language": "python",
     "metadata": {},
     "outputs": [],
     "prompt_number": 4
    },
    {
     "cell_type": "markdown",
     "metadata": {},
     "source": [
      "Now use the plot_nuclei function to visualize the two nuclei. "
     ]
    },
    {
     "cell_type": "code",
     "collapsed": false,
     "input": [
      "#######ONE LINE##########\n",
      "HF = HF_geometry(r0)"
     ],
     "language": "python",
     "metadata": {},
     "outputs": [],
     "prompt_number": 5
    },
    {
     "cell_type": "code",
     "collapsed": false,
     "input": [
      "plot_nuclei(HF)"
     ],
     "language": "python",
     "metadata": {},
     "outputs": [
      {
       "output_type": "stream",
       "stream": "stderr",
       "text": [
        "/home/chem160/anaconda/lib/python2.7/site-packages/traits/has_traits.py:1766: FutureWarning: comparison to `None` will result in an elementwise object comparison in the future.\n",
        "  setattr( self, name, value )\n"
       ]
      }
     ],
     "prompt_number": 6
    },
    {
     "cell_type": "heading",
     "level": 3,
     "metadata": {},
     "source": [
      "Get the energy for a single bond distance"
     ]
    },
    {
     "cell_type": "markdown",
     "metadata": {},
     "source": [
      "We are going to use PyQuante to call the Restricted Open Shell Hartree-Fock Method. I'll show you how this is done for a single bond distance. \n",
      "\n",
      "It's pretty simple and can be done in a single line. We call the rohf.rohf function, which takes as input the molecule and the basis set.  The molecule is HF, and we'll use what's known as the STO-3g basis set.  Briefly, in this basis set we approximate each atomic Slater-type orbital (that's where the STO comes from) as a sum of three Gaussian's (that's where the 3g comes from).\n",
      "\n",
      "The function returns three outputs --> the energy, the orbitals, and the orbital energies. "
     ]
    },
    {
     "cell_type": "code",
     "collapsed": false,
     "input": [
      "en,orbe,orbs = rohf.rohf(HF, basis = 'sto-3g')\n",
      "print 'The ground state energy is --> ', en"
     ],
     "language": "python",
     "metadata": {},
     "outputs": [
      {
       "output_type": "stream",
       "stream": "stdout",
       "text": [
        "Optimization of HF orbitals\n",
        "0 -97.8210714563 -76.3635234757 -26.4708061291 5.01325814842\n",
        "1 -98.1447094933 -75.6856049991 -27.4723626425 5.01325814842\n",
        "2 -98.3442439153 -75.2701274304 -28.0873746334 5.01325814842\n",
        "3 -98.4545169697 -75.0290049568 -28.4387701613 5.01325814842\n",
        "4 -98.5125513998 -74.8921526193 -28.633656929 5.01325814842\n",
        "5 -98.5423692039 -74.8153738057 -28.7402535466 5.01325814842\n",
        "6 -98.5575007735 -74.7726035212 -28.7981554007 5.01325814842\n",
        "7 -98.5651291083 -74.7488966007 -28.829490656 5.01325814842\n",
        "8 -98.5689610669 -74.7358071189 -28.8464120964 5.01325814842\n",
        "9 -98.5708821814 -74.7286033686 -28.8555369612 5.01325814842\n",
        "10 -98.5718442459 -74.7246501363 -28.860452258 5.01325814842\n",
        "11 -98.5723257289 -74.7224863563 -28.863097521 5.01325814842\n",
        "12 -98.572566608 -74.7213049101 -28.8645198463 5.01325814842\n",
        "13 -98.5726870904 -74.7206613304 -28.8652839085 5.01325814842\n",
        "14 -98.5727473453 -74.7203115419 -28.8656939519 5.01325814842\n",
        "15 -98.5727774773 -74.720121857 -28.8659137687 5.01325814842\n",
        "16 -98.5727925447 -74.7200192266 -28.8660314666 5.01325814842\n",
        "17 -98.5728000789 -74.7199638265 -28.8660944008 5.01325814842\n",
        "The ground state energy is -->  -98.5728000789\n"
       ]
      }
     ],
     "prompt_number": 7
    },
    {
     "cell_type": "heading",
     "level": 3,
     "metadata": {},
     "source": [
      "Get the ground state energy of Hydrogen Fluoride for a range of distances."
     ]
    },
    {
     "cell_type": "markdown",
     "metadata": {},
     "source": [
      "Now, based on the example I gave you above, you should be able to get the energy of Hydrogen Fluoride as a function of bond distance.  In the cell below: \n",
      "\n",
      "1.  create an array with many distances (say from 0.2 to 2 in intervals of 0.1)\n",
      "2. create an array of zeros, same length as your position array. \n",
      "3.  Write a for loop, where at each iteration you do the following, a) get an HF molecule with the apropriate bond distance b) run a Restricted Open Shell Hartree Fock calculation on that molecule using the 'sto-3g' basis set, getting the energy, orbitals, and orbital energies, and c) store the energy for that bond distance in the energy array. "
     ]
    },
    {
     "cell_type": "code",
     "collapsed": false,
     "input": [
      "############# about 7 - 9 lines #######\n",
      "r0s = np.arange(0.2, 2, 0.01)\n",
      "E = np.zeros_like(r0s)\n",
      "for i in xrange(len(r0s)):\n",
      "    HF = HF_geometry(r0s[i])\n",
      "    en,orbe,orbs = rohf.rohf(HF, basis = 'sto-3g')\n",
      "    E[i] = en"
     ],
     "language": "python",
     "metadata": {},
     "outputs": []
    },
    {
     "cell_type": "heading",
     "level": 3,
     "metadata": {},
     "source": [
      "Plot the energy as a function of bond dinstance"
     ]
    },
    {
     "cell_type": "markdown",
     "metadata": {},
     "source": [
      "Label your axes and add a title. I recommend y-limits of -98.6 to -94"
     ]
    },
    {
     "cell_type": "code",
     "collapsed": false,
     "input": [
      "######HOWEVER MANY LINES YOU NEED TO MAKE THE PLOT######\n",
      "plt.plot(r0s, E)\n",
      "plt.xlabel('bond length')\n",
      "plt.ylabel('Energy')\n",
      "plt.ylim((-98.6, -94))\n",
      "plt.title('Energy vs. Bond Length, Hydrogen Fluoride')"
     ],
     "language": "python",
     "metadata": {},
     "outputs": [
      {
       "metadata": {},
       "output_type": "pyout",
       "prompt_number": 9,
       "text": [
        "<matplotlib.text.Text at 0x7fa180193fd0>"
       ]
      },
      {
       "metadata": {},
       "output_type": "display_data",
       "png": "[encoded data removed]",
       "text": [
        "<matplotlib.figure.Figure at 0x7fa17d466490>"
       ]
      }
     ],
     "prompt_number": 9
    },
    {
     "cell_type": "heading",
     "level": 2,
     "metadata": {},
     "source": [
      "For what bond distance do you get the minimum energy? How does this compare to the bond distance in Wikipedia?"
     ]
    },
    {
     "cell_type": "markdown",
     "metadata": {},
     "source": [
      "I recommend using the argmin function in numpy to get the **index** of the energy array corresponding to the minimal energy.  You can then use that index to recover the value of bond distance corresponding to this minimal energy. "
     ]
    },
    {
     "cell_type": "code",
     "collapsed": false,
     "input": [
      "equilibrium_r0 = r0s[np.argmin(E)]\n",
      "print 'The Equilibrium Distance using Restricted Open Shell Hartree-Fock is ----> ' + str(equilibrium_r0)"
     ],
     "language": "python",
     "metadata": {},
     "outputs": [
      {
       "output_type": "stream",
       "stream": "stdout",
       "text": [
        "The Equilibrium Distance using Restricted Open Shell Hartree-Fock is ----> 0.96\n"
       ]
      }
     ],
     "prompt_number": 10
    },
    {
     "cell_type": "markdown",
     "metadata": {},
     "source": [
      "The predicted equilibrium distance of 0.96 angstroms is very close to Wikipedia's value of 0.95 angstroms."
     ]
    },
    {
     "cell_type": "heading",
     "level": 1,
     "metadata": {},
     "source": [
      "Part II: Ethylene Energy vs. Torsional Angle"
     ]
    },
    {
     "cell_type": "heading",
     "level": 4,
     "metadata": {},
     "source": [
      "Write a function that returns a PyQuante molecule representing Ethylene given a Torsion angle"
     ]
    },
    {
     "cell_type": "markdown",
     "metadata": {},
     "source": [
      "In this section we'll twist an ethelene molecule about the C=C axis. As you learned somewhere in your path through life (and if you haven't, read up on it), ethylene has a double bond between the two carbon atoms.  And this double bond dictates that the geometry of ethylene is planar (i.e. the angle between the plane defined by one of the $CH_2$ set of atoms and the other $CH_2$ set of atoms is zero).  Here we'll change that angle and will see what happens to both the energy and to the pi-bonding orbitals.\n",
      "\n",
      "First, we'll define a function called ethylene_geometry which takes as input the angle between the two $CH_2$ planes.  "
     ]
    },
    {
     "cell_type": "code",
     "collapsed": false,
     "input": [
      "def ethylene_geometry(phi):\n",
      "    '''phi is the torsional angle\n",
      "    '''\n",
      "    #############THREE LINES################\n",
      "    #1. define a variable  x0 whos value is the length of the C=C bond in ethylene in Angstroms \n",
      "    #2. define a variable r0 who's value is the length of the C-H bond in ethylene in Angstroms \n",
      "    #3. define a variable thetha0 who's value is \n",
      "    #        180 - (The angle between the C=C bond and a C-H bond) MULTIPLIED by (2pi/360)\n",
      "    # Look up the values in Wikipedia.  Recall that 1 Angstrom = 100 pm\n",
      "    \n",
      "    ########################################\n",
      "    x0 = 1.339\n",
      "    r0 = 1.087\n",
      "    theta0 = (180 - 121.3) * (2*np.pi/360)\n",
      "    \n",
      "    C1 = (6, (x0/2.0, 0, 0)) #This is the first carbon atom\n",
      "    C2 = (6, (-x0/2.0, 0, 0)) #this is the second carbon atom\n",
      "    \n",
      "    #These are the two hydrogens attached to C1. I worked out the dependence on theta0 and phi of x, y, z for you\n",
      "    H1_1 = (1, (x0/2.0 + r0*np.cos(theta0), -r0*np.sin(theta0)*np.cos(phi), r0*np.sin(theta0)*np.sin(phi)))\n",
      "    H1_2 = (1, (x0/2.0 + r0*np.cos(theta0), r0*np.sin(theta0)*np.cos(phi), -r0*np.sin(theta0)*np.sin(phi)))\n",
      "    \n",
      "    #These are the two hydrogens attached to C2\n",
      "    H2_1 = (1, (-x0/2.0 - r0*np.cos(theta0), -r0*np.sin(theta0), 0))\n",
      "    H2_2 = (1, (-x0/2.0 - r0*np.cos(theta0), r0*np.sin(theta0), 0))\n",
      "    \n",
      "    ################ONE LINE####################\n",
      "    #Generate PyQuante Molecule called eth who's name is 'Ethylene', whos atom list is given by the atoms above, and \n",
      "    #who's units are Angstroms. \n",
      "    #######################################################\n",
      "    eth = Molecule('Ethylene',\n",
      "                   [C1, C2, H1_1, H1_2, H2_1, H2_2],\n",
      "                   units='Angstrom')\n",
      "    \n",
      "    return eth"
     ],
     "language": "python",
     "metadata": {},
     "outputs": [],
     "prompt_number": 39
    },
    {
     "cell_type": "heading",
     "level": 3,
     "metadata": {},
     "source": [
      "Plot the nuclei for a torsional angle equal to 0."
     ]
    },
    {
     "cell_type": "markdown",
     "metadata": {},
     "source": [
      "1. set phi equal to 0\n",
      "2. call the function above to create a molecule called eth\n",
      "3. call the plot_nuclei function to plot the six nuclei. Using your mouse, move the molecule around to verify that the molecule has the planar conformation. "
     ]
    },
    {
     "cell_type": "code",
     "collapsed": false,
     "input": [
      "#######THREE LINES########\n",
      "# As described above. \n",
      "phi = 0\n",
      "eth = ethylene_geometry(phi)"
     ],
     "language": "python",
     "metadata": {},
     "outputs": [],
     "prompt_number": 33
    },
    {
     "cell_type": "code",
     "collapsed": false,
     "input": [
      "plot_nuclei(eth)"
     ],
     "language": "python",
     "metadata": {},
     "outputs": [],
     "prompt_number": 13
    },
    {
     "cell_type": "heading",
     "level": 3,
     "metadata": {},
     "source": [
      "For a given geometry, do the rohf calculation to get the Hartree-Fock estimate for the ground state energy"
     ]
    },
    {
     "cell_type": "markdown",
     "metadata": {},
     "source": [
      "Use the rohf.rohf function, and the default basis set, '6-31g*' (we'll later learn how this basis set is constructed). To use this basis set, just call rohf.rohf(MoleculeName) \n",
      "\n",
      "Make sure you get the three outputs (energy, orbitals, and orbital energies) as three different variables. "
     ]
    },
    {
     "cell_type": "code",
     "collapsed": false,
     "input": [
      "###########ONE LINE #############\n",
      "en,orbe,orbs = rohf.rohf(eth)"
     ],
     "language": "python",
     "metadata": {},
     "outputs": [
      {
       "output_type": "stream",
       "stream": "stdout",
       "text": [
        "Optimization of HF orbitals\n",
        "0 -64.3502109993 -92.7118957539 -4.88624320292 33.2479279575\n",
        "1"
       ]
      },
      {
       "output_type": "stream",
       "stream": "stdout",
       "text": [
        " -70.9090015959 -82.2796996745 -21.8772298789 33.2479279575\n",
        "2"
       ]
      },
      {
       "output_type": "stream",
       "stream": "stdout",
       "text": [
        " -74.2307357211 -83.4107058479 -24.0679578306 33.2479279575\n",
        "3"
       ]
      },
      {
       "output_type": "stream",
       "stream": "stdout",
       "text": [
        " -76.0693757245 -84.1301171353 -25.1871865467 33.2479279575\n",
        "4 -77.036014283 -84.5196782875 -25.764263953 33.2479279575\n",
        "5"
       ]
      },
      {
       "output_type": "stream",
       "stream": "stdout",
       "text": [
        " -77.5320306985 -84.7219896977 -26.0579689583 33.2479279575\n",
        "6"
       ]
      },
      {
       "output_type": "stream",
       "stream": "stdout",
       "text": [
        " -77.7835205039 -84.8252413074 -26.2062071539 33.2479279575\n",
        "7 -77.9102514201 -84.8774673125 -26.2807120651 33.2479279575\n",
        "8"
       ]
      },
      {
       "output_type": "stream",
       "stream": "stdout",
       "text": [
        " -77.9739084219 -84.9037456064 -26.3180907729 33.2479279575\n",
        "9"
       ]
      },
      {
       "output_type": "stream",
       "stream": "stdout",
       "text": [
        " -78.0058278008 -84.9169211297 -26.3368346285 33.2479279575\n",
        "10"
       ]
      },
      {
       "output_type": "stream",
       "stream": "stdout",
       "text": [
        " -78.0218175421 -84.9235078454 -26.3462376542 33.2479279575\n",
        "11 -78.0298229643 -84.9267906402 -26.3509602816 33.2479279575\n",
        "12"
       ]
      },
      {
       "output_type": "stream",
       "stream": "stdout",
       "text": [
        " -78.0338295906 -84.9284204821 -26.353337066 33.2479279575\n",
        "13 -78.0358344263 -84.929225316 -26.3545370677 33.2479279575\n",
        "14"
       ]
      },
      {
       "output_type": "stream",
       "stream": "stdout",
       "text": [
        " -78.0368374586 -84.9296196265 -26.3551457896 33.2479279575\n",
        "15 -78.03733923 -84.929810539 -26.3554566485 33.2479279575\n",
        "16"
       ]
      },
      {
       "output_type": "stream",
       "stream": "stdout",
       "text": [
        " -78.037590224 -84.9299013162 -26.3556168652 33.2479279575\n",
        "17 -78.0377157677 -84.9299432659 -26.3557004593 33.2479279575\n",
        "18"
       ]
      },
      {
       "output_type": "stream",
       "stream": "stdout",
       "text": [
        " -78.0377785599 -84.9299617511 -26.3557447662 33.2479279575\n",
        "19"
       ]
      },
      {
       "output_type": "stream",
       "stream": "stdout",
       "text": [
        " -78.0378099649 -84.9299692134 -26.355768709 33.2479279575\n",
        "20"
       ]
      },
      {
       "output_type": "stream",
       "stream": "stdout",
       "text": [
        " -78.0378256715 -84.9299716839 -26.355781945 33.2479279575\n",
        "21"
       ]
      },
      {
       "output_type": "stream",
       "stream": "stdout",
       "text": [
        " -78.0378335265 -84.929972034 -26.35578945 33.2479279575\n"
       ]
      }
     ],
     "prompt_number": 14
    },
    {
     "cell_type": "heading",
     "level": 3,
     "metadata": {},
     "source": [
      "And now plot the orbital associated to pi-bonding. "
     ]
    },
    {
     "cell_type": "markdown",
     "metadata": {},
     "source": [
      "Hint: if you have a molecule, and it's orbitals, you can plot an orbital by doing:\n",
      "\n",
      "MoleculeName.plot_orbs(orbitals[:,OrbitalNumber])\n",
      "\n",
      "Hint: Plot the 8th orbital.  "
     ]
    },
    {
     "cell_type": "code",
     "collapsed": false,
     "input": [
      "############ONE LINE#########\n",
      "eth.plot_orbs(orbs[:, 7])"
     ],
     "language": "python",
     "metadata": {},
     "outputs": [],
     "prompt_number": 15
    },
    {
     "cell_type": "heading",
     "level": 1,
     "metadata": {},
     "source": [
      "Repeat the three steps above for a torsional angle equal to 90."
     ]
    },
    {
     "cell_type": "heading",
     "level": 3,
     "metadata": {},
     "source": [
      "1. Plot nuclear coordinates <br>\n",
      "2. Get ground state energy <br>\n",
      "3. Plot the same orbital"
     ]
    },
    {
     "cell_type": "markdown",
     "metadata": {},
     "source": [
      "Same as above, but now set the angle phi to 90 degrees. **But make sure to convert it to radians!!!!**"
     ]
    },
    {
     "cell_type": "code",
     "collapsed": false,
     "input": [
      "#######THREE LINES########\n",
      "# As described above. \n",
      "phi = 90*np.pi / 180\n",
      "eth = ethylene_geometry(phi)\n",
      "plot_nuclei(eth)"
     ],
     "language": "python",
     "metadata": {},
     "outputs": [],
     "prompt_number": 41
    },
    {
     "cell_type": "code",
     "collapsed": false,
     "input": [
      "###ONE LINE####\n",
      "en,orbe,orbs = rohf.rohf(eth)"
     ],
     "language": "python",
     "metadata": {},
     "outputs": [
      {
       "output_type": "stream",
       "stream": "stdout",
       "text": [
        "Optimization of HF orbitals\n",
        "0 -64.291002201 -92.6357647933 -4.88883012974 33.233592722\n",
        "1 -70.8831306012 -82.2444473975 -21.8722759257 33.233592722\n",
        "2"
       ]
      },
      {
       "output_type": "stream",
       "stream": "stdout",
       "text": [
        " -74.1252792572 -83.2952324442 -24.0636395351 33.233592722\n",
        "3 -75.9267351996 -84.0046268337 -25.1557010879 33.233592722\n",
        "4"
       ]
      },
      {
       "output_type": "stream",
       "stream": "stdout",
       "text": [
        " -76.8757254267 -84.3918453174 -25.7174728314 33.233592722\n",
        "5"
       ]
      },
      {
       "output_type": "stream",
       "stream": "stdout",
       "text": [
        " -77.36323316 -84.5929907569 -26.0038351251 33.233592722\n",
        "6"
       ]
      },
      {
       "output_type": "stream",
       "stream": "stdout",
       "text": [
        " -77.610588677 -84.6954272707 -26.1487541283 33.233592722\n",
        "7"
       ]
      },
      {
       "output_type": "stream",
       "stream": "stdout",
       "text": [
        " -77.7353080555 -84.7470768892 -26.2218238883 33.233592722\n",
        "8"
       ]
      },
      {
       "output_type": "stream",
       "stream": "stdout",
       "text": [
        " -77.7979907179 -84.7729675536 -26.2586158863 33.233592722\n",
        "9"
       ]
      },
      {
       "output_type": "stream",
       "stream": "stdout",
       "text": [
        " -77.8294436514 -84.7858937283 -26.2771426452 33.233592722\n",
        "10"
       ]
      },
      {
       "output_type": "stream",
       "stream": "stdout",
       "text": [
        " -77.8452152759 -84.7923249446 -26.2864830533 33.233592722\n",
        "11"
       ]
      },
      {
       "output_type": "stream",
       "stream": "stdout",
       "text": [
        " -77.8531233278 -84.7955126327 -26.2912034172 33.233592722\n",
        "12"
       ]
      },
      {
       "output_type": "stream",
       "stream": "stdout",
       "text": [
        " -77.8570906292 -84.7970849015 -26.2935984497 33.233592722\n",
        "13"
       ]
      },
      {
       "output_type": "stream",
       "stream": "stdout",
       "text": [
        " -77.8590834458 -84.7978549893 -26.2948211786 33.233592722\n",
        "14"
       ]
      },
      {
       "output_type": "stream",
       "stream": "stdout",
       "text": [
        " -77.8600867792 -84.7982282731 -26.2954512281 33.233592722\n",
        "15"
       ]
      },
      {
       "output_type": "stream",
       "stream": "stdout",
       "text": [
        " -77.8605939433 -84.798406373 -26.2957802923 33.233592722\n",
        "16"
       ]
      },
      {
       "output_type": "stream",
       "stream": "stdout",
       "text": [
        " -77.8608520035 -84.7984892712 -26.2959554543 33.233592722\n",
        "17"
       ]
      },
      {
       "output_type": "stream",
       "stream": "stdout",
       "text": [
        " -77.86098473 -84.7985263327 -26.2960511193 33.233592722\n",
        "18 -77.8610541651 -84.7985417696 -26.2961051175 33.233592722\n",
        "19"
       ]
      },
      {
       "output_type": "stream",
       "stream": "stdout",
       "text": [
        " -77.8610914446 -84.7985473361 -26.2961368305 33.233592722\n",
        "20"
       ]
      },
      {
       "output_type": "stream",
       "stream": "stdout",
       "text": [
        " -77.8611122248 -84.798548647 -26.2961562998 33.233592722\n",
        "21"
       ]
      },
      {
       "output_type": "stream",
       "stream": "stdout",
       "text": [
        " -77.861124405 -84.7985483163 -26.2961688108 33.233592722\n",
        "22 -77.861131993 -84.7985475086 -26.2961772064 33.233592722\n"
       ]
      }
     ],
     "prompt_number": 42
    },
    {
     "cell_type": "code",
     "collapsed": false,
     "input": [
      "#####ONE LINE########\n",
      "eth.plot_orbs(orbs[:, 7])"
     ],
     "language": "python",
     "metadata": {},
     "outputs": [],
     "prompt_number": 43
    },
    {
     "cell_type": "heading",
     "level": 3,
     "metadata": {},
     "source": [
      "Get the ground state energy of Ethylene for a range of torsional angles."
     ]
    },
    {
     "cell_type": "markdown",
     "metadata": {},
     "source": [
      "You know the idea: Create an array of angles (from 0 to 180 in steps of either 15 or 30, depend on how fast is your virtual machine).  Write a for loop that lets you iterate through each angle, constructing the molecule at each step and getting its energy. **Don't forget to convert the angles to radians**  Store the energy in an array which you'll use for plotting below. "
     ]
    },
    {
     "cell_type": "code",
     "collapsed": false,
     "input": [
      "#########SEVERAL LINES###############\n",
      "phis = np.arange(0, 180, 30)*np.pi/180.\n",
      "E = np.zeros_like(phis)\n",
      "for i in xrange(len(phis)):\n",
      "    eth = ethylene_geometry(phis[i])\n",
      "    en,orbe,orbs = rohf.rohf(eth)\n",
      "    E[i] = en"
     ],
     "language": "python",
     "metadata": {},
     "outputs": [
      {
       "output_type": "stream",
       "stream": "stdout",
       "text": [
        "Optimization of HF orbitals\n",
        "0 -64.3502109993 -92.7118957539 -4.88624320292 33.2479279575\n",
        "1 -70.9090015959 -82.2796996745 -21.8772298789 33.2479279575\n",
        "2"
       ]
      },
      {
       "output_type": "stream",
       "stream": "stdout",
       "text": [
        " -74.2307357211 -83.4107058479 -24.0679578306 33.2479279575\n",
        "3 -76.0693757245 -84.1301171353 -25.1871865467 33.2479279575\n",
        "4"
       ]
      },
      {
       "output_type": "stream",
       "stream": "stdout",
       "text": [
        " -77.036014283 -84.5196782875 -25.764263953 33.2479279575\n",
        "5 -77.5320306985 -84.7219896977 -26.0579689583 33.2479279575\n",
        "6 -77.7835205039 -84.8252413074 -26.2062071539 33.2479279575\n",
        "7"
       ]
      },
      {
       "output_type": "stream",
       "stream": "stdout",
       "text": [
        " -77.9102514201 -84.8774673125 -26.2807120651 33.2479279575\n",
        "8 -77.9739084219 -84.9037456064 -26.3180907729 33.2479279575\n",
        "9 -78.0058278008 -84.9169211297 -26.3368346285 33.2479279575\n",
        "10"
       ]
      },
      {
       "output_type": "stream",
       "stream": "stdout",
       "text": [
        " -78.0218175421 -84.9235078454 -26.3462376542 33.2479279575\n",
        "11 -78.0298229643 -84.9267906402 -26.3509602816 33.2479279575\n",
        "12 -78.0338295906 -84.9284204821 -26.353337066 33.2479279575\n",
        "13"
       ]
      },
      {
       "output_type": "stream",
       "stream": "stdout",
       "text": [
        " -78.0358344263 -84.929225316 -26.3545370677 33.2479279575\n",
        "14 -78.0368374586 -84.9296196265 -26.3551457896 33.2479279575\n",
        "15 -78.03733923 -84.929810539 -26.3554566485 33.2479279575\n",
        "16"
       ]
      },
      {
       "output_type": "stream",
       "stream": "stdout",
       "text": [
        " -78.037590224 -84.9299013162 -26.3556168652 33.2479279575\n",
        "17 -78.0377157677 -84.9299432659 -26.3557004593 33.2479279575\n",
        "18 -78.0377785599 -84.9299617511 -26.3557447662 33.2479279575\n",
        "19"
       ]
      },
      {
       "output_type": "stream",
       "stream": "stdout",
       "text": [
        " -78.0378099649 -84.9299692134 -26.355768709 33.2479279575\n",
        "20 -78.0378256715 -84.9299716839 -26.355781945 33.2479279575\n",
        "21 -78.0378335265 -84.929972034 -26.35578945 33.2479279575\n",
        "Optimization of HF orbitals"
       ]
      },
      {
       "output_type": "stream",
       "stream": "stdout",
       "text": [
        "\n",
        "0 -64.3500979058 -92.700630802 -4.89371236507 33.2442452612\n",
        "1 -70.9132202686 -82.2802573126 -21.8772082172 33.2442452612\n",
        "2"
       ]
      },
      {
       "output_type": "stream",
       "stream": "stdout",
       "text": [
        " -74.2218654679 -83.3962270943 -24.0698836348 33.2442452612\n",
        "3 -76.054567675 -84.1139143252 -25.1848986111 33.2442452612\n",
        "4 -77.0184191708 -84.503432255 -25.7592321771 33.2442452612\n",
        "5"
       ]
      },
      {
       "output_type": "stream",
       "stream": "stdout",
       "text": [
        " -77.5130915289 -84.7058743777 -26.0514624124 33.2442452612\n",
        "6 -77.7639232819 -84.809222285 -26.1989462581 33.2442452612\n",
        "7 -77.8903294687 -84.8615043304 -26.2730703995 33.2442452612\n",
        "8"
       ]
      },
      {
       "output_type": "stream",
       "stream": "stdout",
       "text": [
        " -77.9538255771 -84.8878145064 -26.3102563319 33.2442452612\n",
        "9 -77.9856650684 -84.9010090368 -26.3289012928 33.2442452612\n",
        "10 -78.001615096 -84.9076078235 -26.3382525337 33.2442452612\n",
        "11"
       ]
      },
      {
       "output_type": "stream",
       "stream": "stdout",
       "text": [
        " -78.0096007609 -84.9108986738 -26.3429473484 33.2442452612\n",
        "12 -78.0135975532 -84.9125340341 -26.3453087803 33.2442452612\n",
        "13 -78.0155974922 -84.9133426717 -26.3465000817 33.2442452612\n",
        "14"
       ]
      },
      {
       "output_type": "stream",
       "stream": "stdout",
       "text": [
        " -78.0165980856 -84.9137395853 -26.3471037616 33.2442452612\n",
        "15 -78.017098642 -84.9139322523 -26.347411651 33.2442452612\n",
        "16 -78.0173490306 -84.9140241881 -26.3475701038 33.2442452612\n",
        "17"
       ]
      },
      {
       "output_type": "stream",
       "stream": "stdout",
       "text": [
        " -78.0174742726 -84.9140668837 -26.3476526501 33.2442452612\n",
        "18 -78.0175369145 -84.9140858347 -26.347696341 33.2442452612\n",
        "19 -78.0175682446 -84.9140935764 -26.3477199294 33.2442452612\n",
        "20"
       ]
      },
      {
       "output_type": "stream",
       "stream": "stdout",
       "text": [
        " -78.0175839138 -84.9140962057 -26.3477329694 33.2442452612\n",
        "21 -78.0175917503 -84.9140966382 -26.3477403732 33.2442452612\n",
        "Optimization of HF orbitals"
       ]
      },
      {
       "output_type": "stream",
       "stream": "stdout",
       "text": [
        "\n",
        "0 -64.3361226434 -92.6729491734 -4.90025312921 33.2370796592\n",
        "1 -70.9088391305 -82.2682320056 -21.877686784 33.2370796592\n",
        "2"
       ]
      },
      {
       "output_type": "stream",
       "stream": "stdout",
       "text": [
        " -74.188203273 -83.3548446354 -24.0704382968 33.2370796592\n",
        "3"
       ]
      },
      {
       "output_type": "stream",
       "stream": "stdout",
       "text": [
        " -76.00729738 -84.0693226067 -25.1750544325 33.2370796592\n",
        "4"
       ]
      },
      {
       "output_type": "stream",
       "stream": "stdout",
       "text": [
        " -76.9646790817 -84.4584671741 -25.7432915668 33.2370796592\n",
        "5"
       ]
      },
      {
       "output_type": "stream",
       "stream": "stdout",
       "text": [
        " -77.4562135327 -84.6608170886 -26.0324761033 33.2370796592\n",
        "6"
       ]
      },
      {
       "output_type": "stream",
       "stream": "stdout",
       "text": [
        " -77.7055060939 -84.7640740775 -26.1785116756 33.2370796592\n",
        "7"
       ]
      },
      {
       "output_type": "stream",
       "stream": "stdout",
       "text": [
        " -77.8311527664 -84.8162695044 -26.2519629211 33.2370796592\n",
        "8"
       ]
      },
      {
       "output_type": "stream",
       "stream": "stdout",
       "text": [
        " -77.8942729115 -84.8425120928 -26.2888404778 33.2370796592\n",
        "9 -77.9259259758 -84.855660212 -26.307345423 33.2370796592\n",
        "10"
       ]
      },
      {
       "output_type": "stream",
       "stream": "stdout",
       "text": [
        " -77.9417834636 -84.8622295992 -26.3166335236 33.2370796592\n",
        "11 -77.9497231604 -84.8655027871 -26.3213000324 33.2370796592\n",
        "12 -77.953697106 -84.8671278918 -26.3236488733 33.2370796592\n",
        "13"
       ]
      },
      {
       "output_type": "stream",
       "stream": "stdout",
       "text": [
        " -77.9556856849 -84.8679306769 -26.3248346672 33.2370796592\n",
        "14 -77.9566806278 -84.8683242447 -26.3254360423 33.2370796592\n",
        "15 -77.9571783727 -84.8685149483 -26.3257430836 33.2370796592\n",
        "16"
       ]
      },
      {
       "output_type": "stream",
       "stream": "stdout",
       "text": [
        " -77.9574273621 -84.8686056683 -26.325901353 33.2370796592\n",
        "17 -77.9575519077 -84.8686475513 -26.3259840156 33.2370796592\n",
        "18 -77.9576142029 -84.8686659127 -26.3260279494 33.2370796592\n",
        "19"
       ]
      },
      {
       "output_type": "stream",
       "stream": "stdout",
       "text": [
        " -77.9576453604 -84.8686731963 -26.3260518233 33.2370796592\n",
        "20 -77.9576609437 -84.8686754534 -26.3260651495 33.2370796592\n",
        "21"
       ]
      },
      {
       "output_type": "stream",
       "stream": "stdout",
       "text": [
        " -77.9576687374 -84.868675577 -26.3260728195 33.2370796592\n",
        "Optimization of HF orbitals"
       ]
      },
      {
       "output_type": "stream",
       "stream": "stdout",
       "text": [
        "\n",
        "0 -64.291002201 -92.6357647933 -4.88883012974 33.233592722\n",
        "1"
       ]
      },
      {
       "output_type": "stream",
       "stream": "stdout",
       "text": [
        " -70.8831306012 -82.2444473975 -21.8722759257 33.233592722\n",
        "2 -74.1252792572 -83.2952324442 -24.0636395351 33.233592722\n",
        "3"
       ]
      },
      {
       "output_type": "stream",
       "stream": "stdout",
       "text": [
        " -75.9267351996 -84.0046268337 -25.1557010879 33.233592722\n",
        "4 -76.8757254267 -84.3918453174 -25.7174728314 33.233592722\n",
        "5 -77.36323316 -84.5929907569 -26.0038351251 33.233592722\n",
        "6"
       ]
      },
      {
       "output_type": "stream",
       "stream": "stdout",
       "text": [
        " -77.610588677 -84.6954272707 -26.1487541283 33.233592722\n",
        "7 -77.7353080555 -84.7470768892 -26.2218238883 33.233592722\n",
        "8"
       ]
      },
      {
       "output_type": "stream",
       "stream": "stdout",
       "text": [
        " -77.7979907179 -84.7729675536 -26.2586158863 33.233592722\n",
        "9 -77.8294436514 -84.7858937283 -26.2771426452 33.233592722\n",
        "10"
       ]
      },
      {
       "output_type": "stream",
       "stream": "stdout",
       "text": [
        " -77.8452152759 -84.7923249446 -26.2864830533 33.233592722\n",
        "11 -77.8531233278 -84.7955126327 -26.2912034172 33.233592722\n",
        "12 -77.8570906292 -84.7970849015 -26.2935984497 33.233592722\n",
        "13"
       ]
      },
      {
       "output_type": "stream",
       "stream": "stdout",
       "text": [
        " -77.8590834458 -84.7978549893 -26.2948211786 33.233592722\n",
        "14 -77.8600867792 -84.7982282731 -26.2954512281 33.233592722\n",
        "15"
       ]
      },
      {
       "output_type": "stream",
       "stream": "stdout",
       "text": [
        " -77.8605939433 -84.798406373 -26.2957802923 33.233592722\n",
        "16 -77.8608520035 -84.7984892712 -26.2959554543 33.233592722\n",
        "17 -77.86098473 -84.7985263327 -26.2960511193 33.233592722\n",
        "18"
       ]
      },
      {
       "output_type": "stream",
       "stream": "stdout",
       "text": [
        " -77.8610541651 -84.7985417696 -26.2961051175 33.233592722\n",
        "19 -77.8610914446 -84.7985473361 -26.2961368305 33.233592722\n",
        "20 -77.8611122248 -84.798548647 -26.2961562998 33.233592722\n",
        "21"
       ]
      },
      {
       "output_type": "stream",
       "stream": "stdout",
       "text": [
        " -77.861124405 -84.7985483163 -26.2961688108 33.233592722\n",
        "22 -77.861131993 -84.7985475086 -26.2961772064 33.233592722\n",
        "Optimization of HF orbitals"
       ]
      },
      {
       "output_type": "stream",
       "stream": "stdout",
       "text": [
        "\n",
        "0 -64.3361226434 -92.6729491734 -4.90025312921 33.2370796592\n",
        "1"
       ]
      },
      {
       "output_type": "stream",
       "stream": "stdout",
       "text": [
        " -70.9088391305 -82.2682320056 -21.877686784 33.2370796592\n",
        "2 -74.188203273 -83.3548446354 -24.0704382968 33.2370796592\n",
        "3 -76.00729738 -84.0693226067 -25.1750544325 33.2370796592\n",
        "4"
       ]
      },
      {
       "output_type": "stream",
       "stream": "stdout",
       "text": [
        " -76.9646790817 -84.4584671741 -25.7432915668 33.2370796592\n",
        "5 -77.4562135327 -84.6608170886 -26.0324761033 33.2370796592\n",
        "6 -77.7055060939 -84.7640740775 -26.1785116756 33.2370796592\n",
        "7"
       ]
      },
      {
       "output_type": "stream",
       "stream": "stdout",
       "text": [
        " -77.8311527664 -84.8162695044 -26.2519629211 33.2370796592\n",
        "8 -77.8942729115 -84.8425120928 -26.2888404778 33.2370796592\n",
        "9 -77.9259259758 -84.855660212 -26.307345423 33.2370796592\n",
        "10"
       ]
      },
      {
       "output_type": "stream",
       "stream": "stdout",
       "text": [
        " -77.9417834636 -84.8622295992 -26.3166335236 33.2370796592\n",
        "11 -77.9497231604 -84.8655027871 -26.3213000324 33.2370796592\n",
        "12 -77.953697106 -84.8671278918 -26.3236488733 33.2370796592\n",
        "13"
       ]
      },
      {
       "output_type": "stream",
       "stream": "stdout",
       "text": [
        " -77.9556856849 -84.8679306769 -26.3248346672 33.2370796592\n",
        "14 -77.9566806278 -84.8683242447 -26.3254360423 33.2370796592\n",
        "15 -77.9571783727 -84.8685149483 -26.3257430836 33.2370796592\n",
        "16"
       ]
      },
      {
       "output_type": "stream",
       "stream": "stdout",
       "text": [
        " -77.9574273621 -84.8686056683 -26.325901353 33.2370796592\n",
        "17 -77.9575519077 -84.8686475513 -26.3259840156 33.2370796592\n",
        "18 -77.9576142029 -84.8686659127 -26.3260279494 33.2370796592\n",
        "19"
       ]
      },
      {
       "output_type": "stream",
       "stream": "stdout",
       "text": [
        " -77.9576453604 -84.8686731963 -26.3260518233 33.2370796592\n",
        "20 -77.9576609437 -84.8686754534 -26.3260651495 33.2370796592\n",
        "21 -77.9576687374 -84.868675577 -26.3260728195 33.2370796592\n",
        "Optimization of HF orbitals"
       ]
      },
      {
       "output_type": "stream",
       "stream": "stdout",
       "text": [
        "\n",
        "0 -64.3500979058 -92.700630802 -4.89371236507 33.2442452612\n",
        "1 -70.9132202686 -82.2802573126 -21.8772082172 33.2442452612\n",
        "2"
       ]
      },
      {
       "output_type": "stream",
       "stream": "stdout",
       "text": [
        " -74.2218654679 -83.3962270943 -24.0698836348 33.2442452612\n",
        "3 -76.054567675 -84.1139143252 -25.1848986111 33.2442452612\n",
        "4 -77.0184191708 -84.503432255 -25.7592321771 33.2442452612\n",
        "5"
       ]
      },
      {
       "output_type": "stream",
       "stream": "stdout",
       "text": [
        " -77.5130915289 -84.7058743777 -26.0514624124 33.2442452612\n",
        "6 -77.7639232819 -84.809222285 -26.1989462581 33.2442452612\n",
        "7 -77.8903294687 -84.8615043304 -26.2730703995 33.2442452612\n",
        "8"
       ]
      },
      {
       "output_type": "stream",
       "stream": "stdout",
       "text": [
        " -77.9538255771 -84.8878145064 -26.3102563319 33.2442452612\n",
        "9 -77.9856650684 -84.9010090368 -26.3289012928 33.2442452612\n",
        "10 -78.001615096 -84.9076078235 -26.3382525337 33.2442452612\n",
        "11"
       ]
      },
      {
       "output_type": "stream",
       "stream": "stdout",
       "text": [
        " -78.0096007609 -84.9108986738 -26.3429473484 33.2442452612\n",
        "12 -78.0135975532 -84.9125340341 -26.3453087803 33.2442452612\n",
        "13 -78.0155974922 -84.9133426717 -26.3465000817 33.2442452612\n",
        "14"
       ]
      },
      {
       "output_type": "stream",
       "stream": "stdout",
       "text": [
        " -78.0165980856 -84.9137395853 -26.3471037616 33.2442452612\n",
        "15 -78.017098642 -84.9139322523 -26.347411651 33.2442452612\n",
        "16"
       ]
      },
      {
       "output_type": "stream",
       "stream": "stdout",
       "text": [
        " -78.0173490306 -84.9140241881 -26.3475701038 33.2442452612\n",
        "17 -78.0174742726 -84.9140668837 -26.3476526501 33.2442452612\n",
        "18"
       ]
      },
      {
       "output_type": "stream",
       "stream": "stdout",
       "text": [
        " -78.0175369145 -84.9140858347 -26.347696341 33.2442452612\n",
        "19 -78.0175682446 -84.9140935764 -26.3477199294 33.2442452612\n",
        "20"
       ]
      },
      {
       "output_type": "stream",
       "stream": "stdout",
       "text": [
        " -78.0175839138 -84.9140962057 -26.3477329694 33.2442452612\n",
        "21 -78.0175917503 -84.9140966382 -26.3477403732 33.2442452612\n"
       ]
      }
     ],
     "prompt_number": 44
    },
    {
     "cell_type": "heading",
     "level": 3,
     "metadata": {},
     "source": [
      "Plot energy vs. torsional angle. Does the plot make sense?"
     ]
    },
    {
     "cell_type": "code",
     "collapsed": false,
     "input": [
      "##########HOWEVER MANY LINES YOU NEED TO MAKE THE PLOT##########\n",
      "plot(phis, E)\n",
      "plt.ylabel('E')\n",
      "plt.xlabel('phi')\n",
      "plt.title('Energy vs. torsional angle')"
     ],
     "language": "python",
     "metadata": {},
     "outputs": [
      {
       "metadata": {},
       "output_type": "pyout",
       "prompt_number": 45,
       "text": [
        "<matplotlib.text.Text at 0x7fa1782753d0>"
       ]
      },
      {
       "metadata": {},
       "output_type": "display_data",
       "png": "[encoded data removed]",
       "text": [
        "<matplotlib.figure.Figure at 0x7fa178416650>"
       ]
      }
     ],
     "prompt_number": 45
    },
    {
     "cell_type": "markdown",
     "metadata": {},
     "source": [
      "Yes, the plot makes sense. The energy is minimized when the torsional angle is zero and maximized when the torsional angle is 90 degrees, which is what we expect since ethylene is a planar molecule."
     ]
    },
    {
     "cell_type": "code",
     "collapsed": false,
     "input": [],
     "language": "python",
     "metadata": {},
     "outputs": [],
     "prompt_number": 45
    }
   ],
   "metadata": {}
  }
 ]
}