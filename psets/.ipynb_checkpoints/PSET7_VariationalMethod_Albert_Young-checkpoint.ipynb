{
 "metadata": {
  "name": "",
  "signature": "sha256:4e0d3ab71fb3c0deb0c07234a1f8df9b6db5d31e1078e29832d576e831e8ef0c"
 },
 "nbformat": 3,
 "nbformat_minor": 0,
 "worksheets": [
  {
   "cells": [
    {
     "cell_type": "code",
     "collapsed": false,
     "input": [
      "from matplotlib import pyplot as plt\n",
      "from matplotlib import rc\n",
      "import numpy as np\n",
      "%matplotlib inline\n",
      "from scipy.integrate import quad"
     ],
     "language": "python",
     "metadata": {},
     "outputs": [],
     "prompt_number": 18
    },
    {
     "cell_type": "heading",
     "level": 1,
     "metadata": {},
     "source": [
      "Using the variational method to estimate the ground state energy of hydrogen using two nonlinear trial functions.  "
     ]
    },
    {
     "cell_type": "heading",
     "level": 3,
     "metadata": {},
     "source": [
      "Recall the variational principle"
     ]
    },
    {
     "cell_type": "markdown",
     "metadata": {},
     "source": [
      "The variational principle allows us to choose a trial wavefunction depending on one or more parameters, and then determining the parameters that minimize the expectation value of the energy. The approximated energy must be higher than the true ground state energy."
     ]
    },
    {
     "cell_type": "heading",
     "level": 3,
     "metadata": {},
     "source": [
      "Recall the radial Schrodinger Equation"
     ]
    },
    {
     "cell_type": "markdown",
     "metadata": {},
     "source": [
      "For this notebook, we'll be using the Variational Method to find optimal wavefunctions and energies for the Radial Schrodinger Equation (i.e. the radial portion of the S. Eq. for the Hydrogen atom.) We'll use two different parametrized trial wave functions.  Here, I'll remind you what the radial Schrodinger equation looks like, in atomic units: \n",
      "\n",
      "$$\\hat{H}R(r) = -\\frac{1}{2}(\\frac{d^2R(r)}{dr^2}+\\frac{2}{r}\\frac{dR(r)}{dr}) + \\frac{l(l+1)}{2r^2}R(r) - \\frac{R(r)}{r}$$\n",
      "\n",
      "$r$ is the radius, and $R(r)$ is the radial wave function.  $l$ is the orbital quantum number (e.g. $l=0$ for the ground state 1S orbital)"
     ]
    },
    {
     "cell_type": "heading",
     "level": 3,
     "metadata": {},
     "source": [
      "1. First trial Radial wave function $R(r) = e^{-(\\alpha r)}$"
     ]
    },
    {
     "cell_type": "markdown",
     "metadata": {},
     "source": [
      "**Before you continue, stop and think.  Does this function look familiar in teh context of the Hydrogen Atom?** \n",
      "\n",
      "Write a function exp_trial that takes as input an array r and a number alpha, **(in that order)**, and returns the value of the function above."
     ]
    },
    {
     "cell_type": "code",
     "collapsed": false,
     "input": [
      "###############Two or Three lines###################\n",
      "def exp_trial(r, alpha):\n",
      "    return exp(-alpha*r)\n",
      "############################################"
     ],
     "language": "python",
     "metadata": {},
     "outputs": [],
     "prompt_number": 19
    },
    {
     "cell_type": "heading",
     "level": 3,
     "metadata": {},
     "source": [
      "2. Write function to get Overlap Integrand $\\langle R(r)|R(r) \\rangle$"
     ]
    },
    {
     "cell_type": "markdown",
     "metadata": {},
     "source": [
      "The overlap integral is equal to:\n",
      "$$\\langle R(r)|R(r)\\rangle =\\int_0^{\\infty} r^2 e^{-2\\alpha r}dr $$\n",
      "\n",
      "Write a functionc called S11_integrand that takes as input an array r and a number alpha, **(in that order)**, and returns the **integrand** above:"
     ]
    },
    {
     "cell_type": "code",
     "collapsed": false,
     "input": [
      "############Two or Three Lines###############\n",
      "def S11_integrand(r, alpha):\n",
      "    return r**2*exp(-2*alpha*r)\n",
      "###########################################"
     ],
     "language": "python",
     "metadata": {},
     "outputs": [],
     "prompt_number": 20
    },
    {
     "cell_type": "heading",
     "level": 3,
     "metadata": {},
     "source": [
      "3. Write a function to get Hamiltonian integrand $\\langle R(r) | \\hat{H} | R(r) \\rangle$"
     ]
    },
    {
     "cell_type": "markdown",
     "metadata": {},
     "source": [
      "Using the expression for the Hamiltonian above, we can derive the expression for the Hamiltonian integral in the case where $l=0$ (the 1S orbital):\n",
      "\n",
      "$$ \\langle R(r) | \\hat{H} | R(r) \\rangle = \\int_0^{\\infty} dr\\;r^2 e^{-\\alpha r} (-\\frac{1}{2}(\\alpha^2e^{-\\alpha r} -\\frac{2}{r}\\alpha e^{-\\alpha r}) - \\frac{e^{-\\alpha r }}{r}) $$\n",
      "\n",
      "write a function H11_integrand that takes as input an array r and a number alpha **(in that order)** and returns the integrand above.\n",
      "\n",
      "Notice that any time that $e^{-\\alpha r}$ appears in the expression, you could use **exp_trial(r,alpha)** in your code, i.e. call the function you wrote above."
     ]
    },
    {
     "cell_type": "code",
     "collapsed": false,
     "input": [
      "################### A COUPLE OF LINES ####################\n",
      "def H11_integrand(r, alpha):\n",
      "    a = exp(-alpha*r)\n",
      "    return r**2*a*(-.5*(alpha**2*a-2/r*alpha*a)-a/r)\n",
      "##########################################################"
     ],
     "language": "python",
     "metadata": {},
     "outputs": [],
     "prompt_number": 21
    },
    {
     "cell_type": "heading",
     "level": 3,
     "metadata": {},
     "source": [
      "BABY STEP: Call the quad, integration routine to integrate Hamiltonian and Overlap integrals for a single value of alpha, $\\alpha = 1$. "
     ]
    },
    {
     "cell_type": "code",
     "collapsed": false,
     "input": [
      "overlap, error = quad(S11_integrand, 1e-6, 1000, (1))\n",
      "print overlap, error"
     ],
     "language": "python",
     "metadata": {},
     "outputs": [
      {
       "output_type": "stream",
       "stream": "stdout",
       "text": [
        "0.25 2.70145322187e-14\n"
       ]
      }
     ],
     "prompt_number": 22
    },
    {
     "cell_type": "code",
     "collapsed": false,
     "input": [
      "Hamiltonian, error = quad(H11_integrand, 1e-6, 1000, (1))\n",
      "print Hamiltonian, error"
     ],
     "language": "python",
     "metadata": {},
     "outputs": [
      {
       "output_type": "stream",
       "stream": "stdout",
       "text": [
        "-0.125 1.36807384569e-14\n"
       ]
      }
     ],
     "prompt_number": 23
    },
    {
     "cell_type": "code",
     "collapsed": false,
     "input": [
      "Energy = Hamiltonian / overlap\n",
      "print Energy"
     ],
     "language": "python",
     "metadata": {},
     "outputs": [
      {
       "output_type": "stream",
       "stream": "stdout",
       "text": [
        "-0.5\n"
       ]
      }
     ],
     "prompt_number": 24
    },
    {
     "cell_type": "heading",
     "level": 3,
     "metadata": {},
     "source": [
      "4. Do the integration for a range of values of the parameter $\\alpha$, and store these values in an array."
     ]
    },
    {
     "cell_type": "markdown",
     "metadata": {},
     "source": [
      "1.  Create an array, alpha_array, that goes from 0.01 to 3, in steps of 0.01\n",
      "2.  Create an array of zeros, E_array, same size as alpha_array\n",
      "3.  Write a for loop that, for each value of alpha in alpha_array 1) calculates the ovelap integral; 2) calculates the Hamiltonian integral; 3) Gets the energy estimate for that particular value of alpha, and stores it in the E_array at the corresponding position. \n",
      "\n",
      "To perform the integrals, use quad function, with limits of integration 1e-6 to 1000."
     ]
    },
    {
     "cell_type": "code",
     "collapsed": false,
     "input": [
      "#################ABOUT 6 or 7 LINES#####################\n",
      "alpha_array = np.arange(0.01, 3, 0.01)\n",
      "E_array = np.zeros_like(alpha_array)\n",
      "for i in xrange(len(alpha_array)):\n",
      "    alpha = alpha_array[i]\n",
      "    overlap, error = quad(S11_integrand, 1e-6, 1000, (alpha))\n",
      "    Hamiltonian, error = quad(H11_integrand, 1e-6, 1000, (alpha))\n",
      "    Energy = Hamiltonian / overlap\n",
      "    E_array[i] = Energy\n",
      "##################################################"
     ],
     "language": "python",
     "metadata": {},
     "outputs": [],
     "prompt_number": 25
    },
    {
     "cell_type": "heading",
     "level": 3,
     "metadata": {},
     "source": [
      "5. Plot $E(\\alpha)$: Energy as a function of $\\alpha$"
     ]
    },
    {
     "cell_type": "code",
     "collapsed": false,
     "input": [
      "plt.plot(alpha_array, E_array)\n",
      "plt.xlabel('alpha')\n",
      "plt.ylabel('E')"
     ],
     "language": "python",
     "metadata": {},
     "outputs": [
      {
       "metadata": {},
       "output_type": "pyout",
       "prompt_number": 26,
       "text": [
        "<matplotlib.text.Text at 0x7f093f6ce7d0>"
       ]
      },
      {
       "metadata": {},
       "output_type": "display_data",
       "png": "[encoded data removed]",
       "text": [
        "<matplotlib.figure.Figure at 0x7f0947a05a90>"
       ]
      }
     ],
     "prompt_number": 26
    },
    {
     "cell_type": "heading",
     "level": 4,
     "metadata": {},
     "source": [
      "Questions: What is the value of $\\alpha$ that gives the minimum energy? What is the minimum value of the energy? Does this energy equal the exact ground state energy of the Hydrogen atom? Did you notice that we happened to choose as a trial function the exact form of the analytical solution to the hydrogen atom?"
     ]
    },
    {
     "cell_type": "markdown",
     "metadata": {},
     "source": [
      "$\\alpha=1$ gives the minimum energy of $-0.5$ Hartrees, which is equal to the exact ground state energy of the hydrogen atom. Yes, I noticed."
     ]
    },
    {
     "cell_type": "heading",
     "level": 1,
     "metadata": {},
     "source": [
      "Second trial function: A normalized gaussian trial function $R(r) = (\\frac{2\\alpha}{\\pi})^{\\frac{3}{4}}e^{-\\alpha r^2}$"
     ]
    },
    {
     "cell_type": "heading",
     "level": 2,
     "metadata": {},
     "source": [
      "Repeat the 5 steps above now using a Gaussian trial function. "
     ]
    },
    {
     "cell_type": "markdown",
     "metadata": {},
     "source": [
      "Guassian functions are the bread and butter, the taco and salsa, of the quantum chemist.  This is because many of the integrals that a quantum chemistry software package has to perform are simplified significantly when one uses Gaussian functions as a basis set.  This explains why one of the most commonly used (although not our favorite in the Aspuru-Guzik Lab) software packages is called \"Gaussian\". "
     ]
    },
    {
     "cell_type": "heading",
     "level": 3,
     "metadata": {},
     "source": [
      "1.  Write a python function that returns the values of the trial Gaussian"
     ]
    },
    {
     "cell_type": "markdown",
     "metadata": {},
     "source": [
      "Write a function gauss_trial that takes as input an array r and a number alpha, **(in that order)**, and returns the value of the gaussian function:\n",
      "\n",
      "$$R(r) = (\\frac{2\\alpha}{\\pi})^{\\frac{3}{4}}e^{-\\alpha r^2}$$"
     ]
    },
    {
     "cell_type": "code",
     "collapsed": false,
     "input": [
      "def gauss_trial(r, alpha):\n",
      "    return (2*alpha/np.pi)**(.75)*exp(-alpha*r**2)"
     ],
     "language": "python",
     "metadata": {},
     "outputs": [],
     "prompt_number": 27
    },
    {
     "cell_type": "heading",
     "level": 3,
     "metadata": {},
     "source": [
      "2. Write function to get Overlap Integrand $\\langle R(r)|R(r) \\rangle$"
     ]
    },
    {
     "cell_type": "markdown",
     "metadata": {},
     "source": [
      "**NOTE: Since I told you that the Gaussian is normalized, the Overlap integral will always be 1, so we can skip this step!!!!**"
     ]
    },
    {
     "cell_type": "heading",
     "level": 3,
     "metadata": {},
     "source": [
      "3. Write a function to get Hamiltonian integrand $\\langle R(r) | \\hat{H} | R(r) \\rangle$"
     ]
    },
    {
     "cell_type": "markdown",
     "metadata": {},
     "source": [
      "Using the expression for the Hamitonian:\n",
      "$$\\hat{H}R(r) = -\\frac{1}{2}(\\frac{d^2R(r)}{dr^2}+\\frac{2}{r}\\frac{dR(r)}{dr}) + \\frac{l(l+1)}{2r^2}R(r) - \\frac{R(r)}{r}$$\n",
      "\n",
      "You should be able to write a python function, called H11GaussIntegrand that takes as input a numpy array r and a number alpha, and returns the integrand for the Hamiltonian integral.  I've written out the following for you: \n",
      "\n",
      "$$R(r) = (\\frac{2\\alpha}{\\pi})^{\\frac{3}{4}}e^{-\\alpha r^2}$$\n",
      "\n",
      "\n",
      "$$\\frac{dR(r)}{dr} = - (\\frac{2\\alpha}{\\pi})^{\\frac{3}{4}} 2 \\alpha r e^{-\\alpha r^2} = -2 \\alpha r R(r)$$\n",
      "\n",
      "$$ \\frac{d^2R(r)}{dr^2} = (\\frac{2\\alpha}{\\pi})^{\\frac{3}{4}}(-2\\alpha + 4\\alpha^2r^2)e^{-\\alpha r^2} = (-2\\alpha + 4\\alpha^2r^2) R(r)$$\n",
      "\n",
      "**Note: whenever R(r) appears in your expression for the integrand, you can simply call the gauss_trial function you wrote above**\n",
      "\n",
      "Don't forget the $r^2$ term (from spherical harmonics integration):\n",
      "\n",
      "$integrand = 4\\pi r^2R(r)\\hat{H}R(r)$"
     ]
    },
    {
     "cell_type": "code",
     "collapsed": false,
     "input": [
      "l = 0\n",
      "def H11GaussIntegrand(r, alpha):\n",
      "    R = (2*alpha/np.pi)**(.75)*exp(-alpha*r**2)\n",
      "    Rprime = -2*alpha*r*R\n",
      "    Rdprime = (-2*alpha+4*alpha**2*r**2)*R\n",
      "    HR = -.5*(Rdprime+2/r*Rprime)+(l*(l+1))/(2*r**2)*R-R/r\n",
      "    integrand = 4*np.pi*r**2*R*HR\n",
      "    return integrand"
     ],
     "language": "python",
     "metadata": {},
     "outputs": [],
     "prompt_number": 28
    },
    {
     "cell_type": "heading",
     "level": 3,
     "metadata": {},
     "source": [
      "BABY STEP: Call the quad, integration routine to integrate Hamiltonian integral for a single value of alpha, say $\\alpha = 0.1$. "
     ]
    },
    {
     "cell_type": "markdown",
     "metadata": {},
     "source": [
      "If you've done the above properly, the code below should work for you. "
     ]
    },
    {
     "cell_type": "code",
     "collapsed": false,
     "input": [
      "Hamiltonian, error = quad(H11GaussIntegrand, 1e-6, 1000, (0.1))\n",
      "print Hamiltonian, error"
     ],
     "language": "python",
     "metadata": {},
     "outputs": [
      {
       "output_type": "stream",
       "stream": "stdout",
       "text": [
        "-0.354626504404 2.9971427174e-12\n"
       ]
      }
     ],
     "prompt_number": 29
    },
    {
     "cell_type": "code",
     "collapsed": false,
     "input": [
      "Overlap = 1\n",
      "Energy = Hamiltonian / Overlap\n",
      "print Energy"
     ],
     "language": "python",
     "metadata": {},
     "outputs": [
      {
       "output_type": "stream",
       "stream": "stdout",
       "text": [
        "-0.354626504404\n"
       ]
      }
     ],
     "prompt_number": 30
    },
    {
     "cell_type": "heading",
     "level": 3,
     "metadata": {},
     "source": [
      "4. Do the integration for a range of values of the parameter $\\alpha$, and store these values in an array."
     ]
    },
    {
     "cell_type": "markdown",
     "metadata": {},
     "source": [
      "1.  Create an array, alpha_array, that goes from 0.1 to 0.5, in steps of 0.01\n",
      "2.  Create an array of zeros, E_array, same size as alpha_array\n",
      "3.  Write a for loop that, for each value of alpha in alpha_array 1) calculates the Hamiltonian integral; 2) Gets the energy estimate for that particular value of alpha, and stores it in the E_array at the corresponding position. \n",
      "\n",
      "To perform the integrals, use quad function, with limits of integration 1e-6 to 1000."
     ]
    },
    {
     "cell_type": "code",
     "collapsed": false,
     "input": [
      "alpha_array = np.arange(0.1, 0.5, 0.01)\n",
      "E_array = np.zeros_like(alpha_array)\n",
      "for i in xrange(len(alpha_array)):\n",
      "    alpha = alpha_array[i]\n",
      "    overlap = 1\n",
      "    Hamiltonian, error = quad(H11GaussIntegrand, 1e-6, 1000, (alpha))\n",
      "    Energy = Hamiltonian / overlap\n",
      "    E_array[i] = Energy"
     ],
     "language": "python",
     "metadata": {},
     "outputs": [],
     "prompt_number": 31
    },
    {
     "cell_type": "heading",
     "level": 3,
     "metadata": {},
     "source": [
      "5. Plot $E(\\alpha)$: Energy as a function of $\\alpha$"
     ]
    },
    {
     "cell_type": "code",
     "collapsed": false,
     "input": [
      "plt.plot(alpha_array, E_array)\n",
      "plt.xlabel('alpha')\n",
      "plt.ylabel('E')"
     ],
     "language": "python",
     "metadata": {},
     "outputs": [
      {
       "metadata": {},
       "output_type": "pyout",
       "prompt_number": 32,
       "text": [
        "<matplotlib.text.Text at 0x7f093f551d50>"
       ]
      },
      {
       "metadata": {},
       "output_type": "display_data",
       "png": "[encoded data removed]",
       "text": [
        "<matplotlib.figure.Figure at 0x7f093f560c10>"
       ]
      }
     ],
     "prompt_number": 32
    },
    {
     "cell_type": "heading",
     "level": 3,
     "metadata": {},
     "source": [
      "Q: What is the lowest energy that you obtain with this trial function? Is the value lower or higher than the experimental ground state? Does this satisfy what the Variational Theorem says? What is the optimal value of $\\alpha$, which gives the lowest energy? "
     ]
    },
    {
     "cell_type": "code",
     "collapsed": false,
     "input": [
      "idx = np.where(E_array == min(E_array))\n",
      "print alpha_array[idx], E_array[idx]"
     ],
     "language": "python",
     "metadata": {},
     "outputs": [
      {
       "output_type": "stream",
       "stream": "stdout",
       "text": [
        "[ 0.28] [-0.42440165]\n"
       ]
      }
     ],
     "prompt_number": 33
    },
    {
     "cell_type": "markdown",
     "metadata": {},
     "source": [
      "The optimal value of $\\alpha=0.28$ gives the lowest energy $E=-0.42$ Hartrees. This value is higher than the experimental ground state, satisfying the Variational Theorem."
     ]
    },
    {
     "cell_type": "heading",
     "level": 3,
     "metadata": {},
     "source": [
      "Finallly, in a single plot, overlay the optimal exponential trial function with the optimal gaussian trial function. What do you notice about the shape at $r=0$? Does the optimal Gaussian trial function capture what's known as the \"nuclear cusp\"?"
     ]
    },
    {
     "cell_type": "code",
     "collapsed": false,
     "input": [
      "r = arange(0, 3, 0.01)\n",
      "plt.figure(1)\n",
      "plt.plot(r, exp_trial(r, 1))\n",
      "plt.plot(r, gauss_trial(r, 0.28))\n",
      "plt.legend(['exponential', 'Gaussian'])\n",
      "plt.xlabel('r')\n",
      "plt.ylabel('E')"
     ],
     "language": "python",
     "metadata": {},
     "outputs": [
      {
       "metadata": {},
       "output_type": "pyout",
       "prompt_number": 34,
       "text": [
        "<matplotlib.text.Text at 0x7f094404c3d0>"
       ]
      },
      {
       "metadata": {},
       "output_type": "display_data",
       "png": "[encoded data removed]",
       "text": [
        "<matplotlib.figure.Figure at 0x7f093f5511d0>"
       ]
      }
     ],
     "prompt_number": 34
    },
    {
     "cell_type": "markdown",
     "metadata": {},
     "source": [
      "The functions have energy maximums at $r=0$. Yes, the optimal Gaussian trial function captures the nuclear cusp behavior."
     ]
    },
    {
     "cell_type": "code",
     "collapsed": false,
     "input": [],
     "language": "python",
     "metadata": {},
     "outputs": [],
     "prompt_number": 34
    }
   ],
   "metadata": {}
  }
 ]
}