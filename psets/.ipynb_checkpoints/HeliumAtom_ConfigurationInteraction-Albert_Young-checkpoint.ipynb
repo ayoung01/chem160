{
 "metadata": {
  "name": "",
  "signature": "sha256:f356d0729ee3c9cb3719e2ecfa62441c04c4e2c9436b0867e01469c9bf8bafb8"
 },
 "nbformat": 3,
 "nbformat_minor": 0,
 "worksheets": [
  {
   "cells": [
    {
     "cell_type": "code",
     "collapsed": false,
     "input": [
      "%matplotlib inline\n",
      "import numpy as np\n",
      "import matplotlib.pyplot as plt"
     ],
     "language": "python",
     "metadata": {},
     "outputs": [],
     "prompt_number": 1
    },
    {
     "cell_type": "markdown",
     "metadata": {},
     "source": [
      "in the pencasts and in lecture you saw that, if we make the \"poor man's\" approximation for the Helium atom (i.e. neglect in the Hamiltoninan the interaction term between the two electrons) we get a system that is easy to solve (basically two independent hydrogen-like 1-electron systems) but with a crappy value for the energy (as compared to experiments). Here we'll try something a bit more sophisticated. "
     ]
    },
    {
     "cell_type": "heading",
     "level": 3,
     "metadata": {},
     "source": [
      "Our Configuration Interaction test wave function: a linear combination of Poor Man's Wave Function and singlet excited state. "
     ]
    },
    {
     "cell_type": "heading",
     "level": 4,
     "metadata": {},
     "source": [
      "What follows is pretty extensive documentation of all the math steps. I highly recommended that you  read through it. "
     ]
    },
    {
     "cell_type": "markdown",
     "metadata": {},
     "source": [
      "We'll include a second term in our expression for the two-electron wave function which will represent an electron configuration where one electron is in the 1S hydrogen-like orbital and the other is in a 2S hydrogen-like orbital:"
     ]
    },
    {
     "cell_type": "markdown",
     "metadata": {},
     "source": [
      "$$\\Psi(\\vec{r_1},\\vec{r_2}) = c_1\\psi_1(\\vec{r_1},\\vec{r_2}) + c_2\\psi_2(\\vec{r_1},\\vec{r_2})$$\n",
      "<br>\n",
      "\n",
      "$$\\Psi(\\vec{r_1},\\vec{r_2}) = c_1\\;\\phi_{1S}(\\vec{r_1})\\phi_{1S}(\\vec{r_2}) + c_2[\\frac{1}{\\sqrt{2}}(\\;\\phi_{1S}(\\vec{r_1})\\phi_{2S}(\\vec{r_2})+\\phi_{1S}(\\vec{r_2})\\phi_{2S}(\\vec{r_1})\\;)]\\;)$$\n",
      "<br>"
     ]
    },
    {
     "cell_type": "markdown",
     "metadata": {},
     "source": [
      "Notice that the second term $[\\phi_{1S}(\\vec{r_1})\\phi_{2S}(\\vec{r_2})+\\phi_{1S}(\\vec{r_2})\\phi_{2S}(\\vec{r_1})]$ is symmetric with respect to exchange of the two electrons, i.e. it represents a singlet state. "
     ]
    },
    {
     "cell_type": "heading",
     "level": 3,
     "metadata": {},
     "source": [
      "Eigenvalues of Hydrogen-like atomic orbitals"
     ]
    },
    {
     "cell_type": "markdown",
     "metadata": {},
     "source": [
      "Recall that the hydrogen-like orbitals are eigenfunctions of the operator $(-\\frac{1}{2}\\nabla_{r_1}^2 - \\frac{Z}{r_1})$ with corresponding eigenvalues (in atomic units) that depend on $Z$, the charge of the nucleus, and the $n$ quantum number of the orbital:\n",
      "\n",
      "<br>\n",
      "$$(-\\frac{1}{2}\\nabla_{r_1}^2 - \\frac{Z}{r_1})\\phi_{1S}(\\vec{r_1}) = -Z^2\\frac{1}{2}\\phi_{1S}(\\vec{r_1})$$\n",
      "<br>\n",
      "$$(-\\frac{1}{2}\\nabla_{r_1}^2 - \\frac{Z}{r_1})\\phi_{2S}(\\vec{r_1}) = -\\frac{Z^2}{2^2}\\frac{1}{2}\\phi_{2S}(\\vec{r_1}) = -\\frac{Z^2}{8}\\phi_{2S}(\\vec{r_1})$$"
     ]
    },
    {
     "cell_type": "heading",
     "level": 3,
     "metadata": {},
     "source": [
      "The Hamiltonian for the Helium atom. "
     ]
    },
    {
     "cell_type": "markdown",
     "metadata": {},
     "source": [
      "You should know by **heart** that the Hamiltonian for the Helium atom is given by (in atomic units) ![Helium atom](files/HeAtomReduced.gif): \n",
      "<br> <br>\n",
      "$$\\hat{H} = -\\frac{1}{2}\\nabla_{r_1}^2 -\\frac{1}{2}\\nabla_{r_2}^2 - \\frac{2}{r_1} - \\frac{2}{r_2} + \\frac{1}{r_{12}}   $$"
     ]
    },
    {
     "cell_type": "heading",
     "level": 3,
     "metadata": {},
     "source": [
      "Matrix representation of the Hamiltonian in our Configuration Interaction basis set."
     ]
    },
    {
     "cell_type": "markdown",
     "metadata": {},
     "source": [
      "We will write the matrix representation of the Hamiltonian as follows:\n",
      "\n",
      "$H = \\begin{pmatrix}\n",
      "H_{11} & H_{12} \\\\\n",
      "H_{21} & H_{22}  \\end{pmatrix} $\n",
      "\n",
      "where the different terms are given by: "
     ]
    },
    {
     "cell_type": "markdown",
     "metadata": {},
     "source": [
      "\n",
      "$$H_{11} = < \\phi_{1S}(\\vec{r_1})\\phi_{1S}(\\vec{r_2})|\\;\\hat{H}\\;|\\;\\phi_{1S}(\\vec{r_1})\\phi_{1S}(\\vec{r_2})>$$\n",
      "\n",
      "$$H_{12} = \\frac{1}{\\sqrt{2}}<\\phi_{1S}(\\vec{r_1})\\phi_{1S}(\\vec{r_2})\\;|\\;\\hat{H}\\;|\\phi_{1S}(\\vec{r_1})\\phi_{2S}(\\vec{r_2})+\\phi_{1S}(\\vec{r_2})\\phi_{2S}(\\vec{r_1})>$$\n",
      "\n",
      "$$H_{21} = \\frac{1}{\\sqrt{2}}<\\phi_{1S}(\\vec{r_1})\\phi_{2S}(\\vec{r_2})+\\phi_{1S}(\\vec{r_2})\\phi_{2S}(\\vec{r_1})|\\;\\hat{H}\\;|\\;\\phi_{1S}(\\vec{r_1})\\phi_{1S}(\\vec{r_2})>$$\n",
      "\n",
      "$$H_{22} = \\frac{1}{2}<\\phi_{1S}(\\vec{r_1})\\phi_{2S}(\\vec{r_2})+\\phi_{1S}(\\vec{r_2})\\phi_{2S}(\\vec{r_1}))|\\;\\hat{H}\\;|\\phi_{1S}(\\vec{r_1})\\phi_{2S}(\\vec{r_2})+\\phi_{1S}(\\vec{r_2})\\phi_{2S}(\\vec{r_1})>$$"
     ]
    },
    {
     "cell_type": "heading",
     "level": 3,
     "metadata": {},
     "source": [
      "Figuring out the different terms:"
     ]
    },
    {
     "cell_type": "heading",
     "level": 1,
     "metadata": {},
     "source": [
      "$H_{11}$"
     ]
    },
    {
     "cell_type": "markdown",
     "metadata": {},
     "source": [
      "Now, let's expand the first term to see what it is in its full glory by writing the full expression for the Hamiltonian (we did this in class when we went over the Poor Man's - not the Very Poor Man's - approximation, i.e. 1st order perturbation theory.  But I'll rederive it here to make the connection):"
     ]
    },
    {
     "cell_type": "markdown",
     "metadata": {},
     "source": [
      "$$H_{11} = < \\phi_{1S}(\\vec{r_1})\\phi_{1S}(\\vec{r_2})\\;|\\;\\hat{H}\\;|\\;\\phi_{1S}(\\vec{r_1})\\phi_{1S}(\\vec{r_2})>$$\n",
      "<br>\n",
      "$$H_{11} = < \\phi_{1S}(\\vec{r_1})\\phi_{1S}(\\vec{r_2})\\;|-\\frac{1}{2}\\nabla_{r_1}^2 -\\frac{1}{2}\\nabla_{r_2}^2 - \\frac{2}{r_1} - \\frac{2}{r_2} + \\frac{1}{r_{12}} |\\;\\phi_{1S}(\\vec{r_1})\\phi_{1S}(\\vec{r_2})>$$"
     ]
    },
    {
     "cell_type": "markdown",
     "metadata": {},
     "source": [
      "Let us split this up into three different terms: \n",
      "<br>\n"
     ]
    },
    {
     "cell_type": "heading",
     "level": 4,
     "metadata": {},
     "source": [
      "First term of $H_{11}$:"
     ]
    },
    {
     "cell_type": "markdown",
     "metadata": {},
     "source": [
      "First a term where the hamiltonian only depends on $r1$\n",
      "$$H_{11a} = < \\phi_{1S}(\\vec{r_1})\\phi_{1S}(\\vec{r_2})\\;|-\\frac{1}{2}\\nabla_{r_1}^2 - \\frac{2}{r_1}|\\;\\phi_{1S}(\\vec{r_1})\\phi_{1S}(\\vec{r_2})>$$\n"
     ]
    },
    {
     "cell_type": "markdown",
     "metadata": {},
     "source": [
      "As we've pointed out in class and in the pencasts, you should notice the fact that the operator that appears in this expression ($-\\frac{1}{2}\\nabla_{r_1}^2 - \\frac{2}{r_1}$) is pretty much the Hamiltonian for the Hydrogen atom in atomic units. And since $\\phi_{1S}$ is an eigenstate of this Hamiltonian: \n",
      "\n",
      "$$(-\\frac{1}{2}\\nabla_{r_1}^2 - \\frac{2}{r_1})\\phi_{1S}(\\vec{r_1}) = -Z^2\\frac{1}{2}\\phi_{1S}(\\vec{r_1})$$ \n",
      "\n",
      "and $\\phi_{1S}$ is normalized, you should be able to see this expression is equal to:\n",
      "\n",
      "$$H_{11a} = -(Z=2)^2\\frac{1}{2} = -2$$"
     ]
    },
    {
     "cell_type": "heading",
     "level": 4,
     "metadata": {},
     "source": [
      "Second term of $H_{11}$:"
     ]
    },
    {
     "cell_type": "markdown",
     "metadata": {},
     "source": [
      "In the next term, the Hamiltonian only depends on $r2$\n",
      "$$H_{11b} = < \\phi_{1S}(\\vec{r_1})\\phi_{1S}(\\vec{r_2})\\;| -\\frac{1}{2}\\nabla_{r_2}^2 - \\frac{2}{r_2} |\\;\\phi_{1S}(\\vec{r_1})\\phi_{1S}(\\vec{r_2})>$$\n",
      "<br> \n",
      "by the same arguments as above yield that:\n",
      "\n",
      "$$H_{11b} = -2$$"
     ]
    },
    {
     "cell_type": "heading",
     "level": 4,
     "metadata": {},
     "source": [
      "Third term of $H_{11}$:"
     ]
    },
    {
     "cell_type": "markdown",
     "metadata": {},
     "source": [
      "The next term is more tricky, with its $\\frac{1}{r_{12}}$ term. \n",
      "<br>\n",
      "$$H_{11c} = < \\phi_{1S}(\\vec{r_1})\\phi_{1S}(\\vec{r_2})\\;| \\frac{1}{r_{12}} |\\;\\phi_{1S}(\\vec{r_1})\\phi_{1S}(\\vec{r_2})>$$\n",
      "<br> \n",
      "To solve it, you need some funky integration techniques.  But it turns out the integral equals:\n",
      "\n",
      "$$H_{11c} = \\frac{5}{4}$$"
     ]
    },
    {
     "cell_type": "markdown",
     "metadata": {},
     "source": [
      "Putting these three terms together, we have:\n",
      "$$H_{11} = -2 -2 + \\frac{5}{4} = -\\frac{11}{4}$$"
     ]
    },
    {
     "cell_type": "code",
     "collapsed": false,
     "input": [
      "H_11 = -2 - 2 + 5.0/4.0\n",
      "print H_11"
     ],
     "language": "python",
     "metadata": {},
     "outputs": [
      {
       "output_type": "stream",
       "stream": "stdout",
       "text": [
        "-2.75\n"
       ]
      }
     ],
     "prompt_number": 3
    },
    {
     "cell_type": "heading",
     "level": 1,
     "metadata": {},
     "source": [
      "$H_{12} = H_{21}$"
     ]
    },
    {
     "cell_type": "markdown",
     "metadata": {},
     "source": [
      "The second term looks a bit more intimidating, but it turns out that most of the integrals go to zero because of the orthogonality of $\\phi_{1S}(\\vec{r})$ and $\\phi_{2S}(\\vec{r})$ \n",
      "\n",
      "\n",
      "$$H_{12} = <\\phi_{1S}(\\vec{r_1})\\phi_{1S}(\\vec{r_2})\\;|\\;\\hat{H}\\;|\\;\\phi_{1S}(\\vec{r_1})\\phi_{2S}(\\vec{r_2})+\\phi_{1S}(\\vec{r_2})\\phi_{2S}(\\vec{r_1})>$$\n",
      "\n",
      "Here is $H_{12}$ with the Hamiltonian fully expanded:\n",
      "\n",
      "$$H_{12} = <\\phi_{1S}(\\vec{r_1})\\phi_{1S}(\\vec{r_2})\\;|-\\frac{1}{2}\\nabla_{r_1}^2 -\\frac{1}{2}\\nabla_{r_2}^2 - \\frac{2}{r_1} - \\frac{2}{r_2} + \\frac{1}{r_{12}}|\\;\\phi_{1S}(\\vec{r_1})\\phi_{2S}(\\vec{r_2})+\\phi_{1S}(\\vec{r_2})\\phi_{2S}(\\vec{r_1})>$$\n",
      "\n",
      "We can split this up into two different terms. And it turns out (again because of orthogonality of the hydrogen-like atom eigenstates) that these expressions reduce to the following integrals:\n",
      "\n",
      "$$H_{12a} = <\\phi_{1S}(\\vec{r_1})\\phi_{1S}(\\vec{r_2})\\;|\\;\\hat{H}\\;|\\;\\phi_{1S}(\\vec{r_1})\\phi_{2S}(\\vec{r_2})> \\;\\; = <\\phi_{1S}(\\vec{r_1})\\phi_{1S}(\\vec{r_2})\\;|\\;\\frac{1}{r_{12}}\\;|\\;\\phi_{1S}(\\vec{r_1})\\phi_{2S}(\\vec{r_2})>  $$\n",
      "<br>\n",
      "\n",
      "$$H_{12b} = <\\phi_{1S}(\\vec{r_1})\\phi_{1S}(\\vec{r_2})\\;|\\;\\hat{H}\\;|\\;\\phi_{1S}(\\vec{r_2})\\phi_{2S}(\\vec{r_1})>\\;\\; = <\\phi_{1S}(\\vec{r_1})\\phi_{1S}(\\vec{r_2})\\;|\\;\\frac{1}{r_{12}}\\;|\\;\\phi_{1S}(\\vec{r_2})\\phi_{2S}(\\vec{r_1})>\\ $$\n",
      "\n"
     ]
    },
    {
     "cell_type": "code",
     "collapsed": false,
     "input": [
      "H_12a = (4096.0/64827.0)*np.sqrt(2)*2  #These are dummy values, \n",
      "             #and will soon be updated once we figure the freaking \n",
      "             #integrals\n",
      "H_12b = (4096.0/64827.0)*np.sqrt(2)*2  #These are dummy values, and will soon be updated\n",
      "             #once we figure the freaking integrals\n",
      "H_12 = (1.0/np.sqrt(2))*(H_12a + H_12b)\n",
      "H_21 = H_12\n",
      "print H_12"
     ],
     "language": "python",
     "metadata": {},
     "outputs": [
      {
       "output_type": "stream",
       "stream": "stdout",
       "text": [
        "0.252734200256\n"
       ]
      }
     ],
     "prompt_number": 2
    },
    {
     "cell_type": "heading",
     "level": 1,
     "metadata": {},
     "source": [
      "$H_{22}$"
     ]
    },
    {
     "cell_type": "markdown",
     "metadata": {},
     "source": [
      "The last term looks even more intimidating, but it can be dealt with:\n",
      "\n",
      "$$H_{22} = <\\phi_{1S}(\\vec{r_1})\\phi_{2S}(\\vec{r_2})+\\phi_{1S}(\\vec{r_2})\\phi_{2S}(\\vec{r_1})|\\;\\hat{H}\\;|\\phi_{1S}(\\vec{r_1})\\phi_{2S}(\\vec{r_2})+\\phi_{1S}(\\vec{r_2})\\phi_{2S}(\\vec{r_1})>$$\n",
      "\n",
      "We can expand this out into four terms. And one can show that:\n",
      "\n",
      "$$H_{22} = 2\\;J_{22,22} + 2\\;K_{22,22}$$\n",
      "\n",
      "Where\n",
      "\n",
      "$$J_{22} = <\\phi_{1S}(\\vec{r_1})\\phi_{2S}(\\vec{r_2})|\\;\\hat{H}\\;|\\phi_{1S}(\\vec{r_1})\\phi_{2S}(\\vec{r_2})> \\;\\; =  -2 - \\frac{1}{2} + \\;\\; <\\phi_{1S}(\\vec{r_1})\\phi_{2S}(\\vec{r_2})|\\;\\frac{1}{r_{12}}\\;|\\phi_{1S}(\\vec{r_1})\\phi_{2S}(\\vec{r_2})> $$ \n",
      "\n",
      "$$K_{22} = <\\phi_{1S}(\\vec{r_1})\\phi_{2S}(\\vec{r_2})|\\;\\hat{H}\\;|\\phi_{1S}(\\vec{r_2})\\phi_{2S}(\\vec{r_1})>\\;\\; = \\;\\;<\\phi_{1S}(\\vec{r_1})\\phi_{2S}(\\vec{r_2})|\\;\\frac{1}{r_{12}}\\;|\\phi_{1S}(\\vec{r_2})\\phi_{2S}(\\vec{r_1})> $$\n",
      "\n",
      "We'll give you the expressions for these below:\n"
     ]
    },
    {
     "cell_type": "code",
     "collapsed": false,
     "input": [
      "#THIS WILL BE A NUMBER.\n",
      "J_22 = -5.0/2.0 + (17.0/81.0)*2\n",
      "K_22 = (16.0/729.0)*2\n",
      "\n",
      "H_22 = (1.0/2.0)*(2*J_22 + 2*K_22)\n",
      "\n",
      "print H_22"
     ],
     "language": "python",
     "metadata": {},
     "outputs": [
      {
       "output_type": "stream",
       "stream": "stdout",
       "text": [
        "-2.03635116598\n"
       ]
      }
     ],
     "prompt_number": 4
    },
    {
     "cell_type": "heading",
     "level": 1,
     "metadata": {},
     "source": [
      "Putting all this together, we can now build the matrix \n",
      "$H = \\begin{pmatrix}\n",
      "H_{11} & H_{12} \\\\\n",
      "H_{21} & H_{22}  \\end{pmatrix} $"
     ]
    },
    {
     "cell_type": "code",
     "collapsed": false,
     "input": [
      "#######\n",
      "##Fill in the four terms of the Hamiltonian matrix \n",
      "##that we derived for you above. \n",
      "H = np.matrix([[H_11, H_12], [H_12, H_22]])\n",
      "\n",
      "#######\n",
      "print H\n"
     ],
     "language": "python",
     "metadata": {},
     "outputs": [
      {
       "output_type": "stream",
       "stream": "stdout",
       "text": [
        "[[-2.75        0.2527342 ]\n",
        " [ 0.2527342  -2.03635117]]\n"
       ]
      }
     ],
     "prompt_number": 8
    },
    {
     "cell_type": "heading",
     "level": 3,
     "metadata": {},
     "source": [
      "Get the eigenvalues of the H matrix:"
     ]
    },
    {
     "cell_type": "code",
     "collapsed": false,
     "input": [
      "#########\n",
      "##Get the eigenvalues and eigenvectors of the matrix\n",
      "##call them eigvals and eigvecs\n",
      "###########\n",
      "eigvals, eigvecs = np.linalg.eig(H)\n",
      "\n",
      "print 'The ground state energy estimate is --> ', eigvals[0]\n",
      "print 'The c1 and c2 coefficients are --> ', eigvecs[:,0] #How do we normalize this?"
     ],
     "language": "python",
     "metadata": {},
     "outputs": [
      {
       "output_type": "stream",
       "stream": "stdout",
       "text": [
        "The ground state energy estimate is -->  -2.83043779329\n",
        "The c1 and c2 coefficients are -->  [[-0.95290141]\n",
        " [ 0.30328023]]\n"
       ]
      }
     ],
     "prompt_number": 21
    },
    {
     "cell_type": "markdown",
     "metadata": {},
     "source": [
      "How does this estimate compare to:\n",
      "\n",
      "1.  The exact ground state energy of He?\n",
      "\n",
      "2.  The Very Poor Man's approximation to the ground state energy of He?\n",
      "\n",
      "3.  The Poor Man's approximation?\n",
      "\n",
      "Recall that here, we are working in the atomic unit of energy, the Hartree.  Whereas in the lecture notes, sometimes the energies are given in electron volts.  You might need the following conversion factor:\n"
     ]
    },
    {
     "cell_type": "code",
     "collapsed": false,
     "input": [
      "Hartree_to_Ev = 27.211399\n",
      "print 'The ground state energy estimate in eV is --> ', eigvals[0]*Hartree_to_Ev"
     ],
     "language": "python",
     "metadata": {},
     "outputs": [
      {
       "output_type": "stream",
       "stream": "stdout",
       "text": [
        "The ground state energy estimate in eV is -->  -77.0201721378\n"
       ]
      }
     ],
     "prompt_number": 10
    },
    {
     "cell_type": "markdown",
     "metadata": {},
     "source": [
      "1. The exact ground state energy of He is -79.0 eV\n",
      "2. The Very Poor Man's approximation to the ground state energy of He is -108.8 eV\n",
      "3. The Poor Man's approximation (Perturbation Theory) is -74.8 eV\n",
      "\n",
      "Our configuration interaction test wavefunction is the best approximation of the four."
     ]
    },
    {
     "cell_type": "heading",
     "level": 1,
     "metadata": {},
     "source": [
      "Vary the interaction strength with $\\lambda$ parameter"
     ]
    },
    {
     "cell_type": "markdown",
     "metadata": {},
     "source": [
      "it is informative to study what happens when we gradually \"turn on\" the interaction between the two electrons, i.e. the term $\\frac{1}{r_{12}}$ in the Hamiltonian.  We can simulate this \"turning on\" by having a parameter $\\lambda$ multiply the interaction term, and make it change from 0 to 1.  When $\\lambda = 0$ we are in the regime of the Very Poor Man's approximation.  When $\\lambda = 1$  we are back with the full Coulomb interaction.  And in between we are somewhere between the two scenarios. When we do this multiplication ( $\\lambda\\frac{1}{r_{12}}$ ), all the integrals that have  $\\frac{1}{r_{12}}$ sandwiched in between will end up having a $\\lambda$ factor as well:"
     ]
    },
    {
     "cell_type": "code",
     "collapsed": false,
     "input": [
      "#This function which I've written for you generates the H \n",
      "#Matrix for different values of lambda. \n",
      "\n",
      "def H_lambda(Lambda):\n",
      "    \n",
      "    H = np.zeros((2,2))\n",
      "        \n",
      "    H_11 = -2 - 2 + 5.0/4.0*Lambda\n",
      "    \n",
      "    H_12a = (4096.0/64827.0)*np.sqrt(2)*2*Lambda  #These are dummy values, \n",
      "                 #and will soon be updated once we figure the freaking \n",
      "                 #painful integrals involved \n",
      "    H_12b = (4096.0/64827.0)*np.sqrt(2)*2*Lambda  #These are dummy values, and will soon be updated\n",
      "                 #once we figure the freaking painful integrals involved\n",
      "    H_12 = (1.0/np.sqrt(2))*(H_12a + H_12b)\n",
      "    H_21 = H_12\n",
      "    \n",
      "    J_22 = -5.0/2.0 + (17.0/81.0)*2*Lambda\n",
      "    K_22 = (16.0/729.0)*2*Lambda\n",
      "    \n",
      "    H_22 = (1.0/2.0)*(2*J_22 + 2*K_22)\n",
      "    \n",
      "    H[0,0] = H_11\n",
      "    H[0,1] = H_12\n",
      "    H[1,0] = H_21\n",
      "    H[1,1] = H_22\n",
      "    \n",
      "    return H"
     ],
     "language": "python",
     "metadata": {},
     "outputs": [],
     "prompt_number": 12
    },
    {
     "cell_type": "heading",
     "level": 3,
     "metadata": {},
     "source": [
      "Vary $\\lambda$ from 0 to 1, and get the ground state energy and the c1 and c2 coefficients for each value. "
     ]
    },
    {
     "cell_type": "code",
     "collapsed": false,
     "input": [
      "Lambda_array = np.arange(0,1,0.01)\n",
      "c1 = np.zeros(len(Lambda_array))\n",
      "c2 = np.zeros(len(Lambda_array))\n",
      "Eg = np.zeros(len(Lambda_array))\n",
      "\n",
      "###################\n",
      "###Write a for loop that loops over the indices i of the\n",
      "## Lambda_array array.  At each value, \n",
      "## 1. get the H matrix, \n",
      "## 2. get the c1 and c2 coefficients. stick them in the appropriate arrays \n",
      "## 3. get the ground state energy. stick it in the appropriate array.\n",
      "## I've written the first couple of lines for you\n",
      "for i in range(len(Lambda_array)):\n",
      "    Lambda = Lambda_array[i]\n",
      "    H = H_lambda(Lambda)\n",
      "    eigvals, eigvecs = np.linalg.eig(H)\n",
      "    c1[i] = float(eigvecs[:,0][0])\n",
      "    c2[i] = float(eigvecs[:,0][1])\n",
      "    Eg[i] = eigvals[0]\n",
      "\n",
      "###################\n"
     ],
     "language": "python",
     "metadata": {},
     "outputs": [],
     "prompt_number": 22
    },
    {
     "cell_type": "heading",
     "level": 3,
     "metadata": {},
     "source": [
      "Plot both coefficients squared $c_1^2$ and $c_2^2$ as a function of $\\lambda$.  Add legend and label your axes."
     ]
    },
    {
     "cell_type": "code",
     "collapsed": false,
     "input": [
      "#####\n",
      "##Do the plotting here.\n",
      "plot(Lambda_array, c1**2, Lambda_array, c2**2)\n",
      "plt.legend(['ground','excited'])\n",
      "plt.ylim([0, 1.2])\n",
      "plt.xlabel('$\\lambda$')\n",
      "plt.ylabel('Value of coefficient')\n",
      "#####"
     ],
     "language": "python",
     "metadata": {},
     "outputs": [
      {
       "metadata": {},
       "output_type": "pyout",
       "prompt_number": 33,
       "text": [
        "<matplotlib.text.Text at 0x7fd7d2fbb710>"
       ]
      },
      {
       "metadata": {},
       "output_type": "display_data",
       "png": "[encoded data removed]",
       "text": [
        "<matplotlib.figure.Figure at 0x7fd7d2d8c710>"
       ]
      }
     ],
     "prompt_number": 33
    },
    {
     "cell_type": "heading",
     "level": 3,
     "metadata": {},
     "source": [
      "Plot the ground energy as a function of $\\lambda$"
     ]
    },
    {
     "cell_type": "code",
     "collapsed": false,
     "input": [
      "#######\n",
      "##Do the plotting here. \n",
      "plot(Lambda_array, Eg * Hartree_to_Ev, Lambda_array, np.repeat(-79.0, len(Lambda_array)))\n",
      "plt.legend(['Estimated energy', 'Exact energy'], loc=4)\n",
      "plt.ylabel('Energy (eV)')\n",
      "plt.xlabel('$\\lambda$')\n",
      "######"
     ],
     "language": "python",
     "metadata": {},
     "outputs": [
      {
       "metadata": {},
       "output_type": "pyout",
       "prompt_number": 41,
       "text": [
        "<matplotlib.text.Text at 0x7fd7d2803610>"
       ]
      },
      {
       "metadata": {},
       "output_type": "display_data",
       "png": "[encoded data removed]",
       "text": [
        "<matplotlib.figure.Figure at 0x7fd7d29415d0>"
       ]
      }
     ],
     "prompt_number": 41
    },
    {
     "cell_type": "heading",
     "level": 3,
     "metadata": {},
     "source": [
      "Think about the plots and how to interpret them.  Can you see how, as you graduallly turn on the interation, the energy gets closer to the experimental value, and you get more contribution from the singlet excited state? "
     ]
    },
    {
     "cell_type": "markdown",
     "metadata": {},
     "source": [
      "The first plot shows that with increasing values of $\\lambda$, we observe an increasing contribution from the singlet excited state relative to the ground state. The second plot shows that we approach the true energy of the ground state as we increase $\\lambda$ from 0 to 1 (though slightly overshooting)."
     ]
    },
    {
     "cell_type": "code",
     "collapsed": false,
     "input": [],
     "language": "python",
     "metadata": {},
     "outputs": []
    }
   ],
   "metadata": {}
  }
 ]
}